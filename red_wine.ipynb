{
  "nbformat": 4,
  "nbformat_minor": 0,
  "metadata": {
    "kernelspec": {
      "display_name": "Python 3",
      "language": "python",
      "name": "python3"
    },
    "language_info": {
      "codemirror_mode": {
        "name": "ipython",
        "version": 3
      },
      "file_extension": ".py",
      "mimetype": "text/x-python",
      "name": "python",
      "nbconvert_exporter": "python",
      "pygments_lexer": "ipython3",
      "version": "3.7.4"
    },
    "colab": {
      "name": "red-wine.ipynb",
      "provenance": []
    }
  },
  "cells": [
    {
      "cell_type": "code",
      "metadata": {
        "id": "RQvirg0_RTr6"
      },
      "source": [
        "!pip install mdptoolbox-hiive"
      ],
      "execution_count": null,
      "outputs": []
    },
    {
      "cell_type": "code",
      "metadata": {
        "id": "ROYFCFkjRCQ3"
      },
      "source": [
        "#import mdptoolbox.example\n",
        "import hiive.mdptoolbox.example as example\n",
        "import hiive.mdptoolbox.mdp as mdp\n",
        "import numpy as np\n",
        "import pandas as pd\n",
        "\n",
        "#import hiive.mdptoolbox, hiive.mdptoolbox.example\n",
        "from matplotlib import pyplot as plt\n",
        "%matplotlib inline"
      ],
      "execution_count": 3,
      "outputs": []
    },
    {
      "cell_type": "code",
      "metadata": {
        "id": "Elt7g4-eRCQ5"
      },
      "source": [
        "def vi_plot(result):\n",
        "    errors = [i['Error'] for i in result]\n",
        "    vi_re = [i['Reward'] for i in result]\n",
        "    mean_re = [i['Mean V'] for i in result]\n",
        "    ax1 = plt.subplot(131)\n",
        "    plt.plot(errors)\n",
        "    \n",
        "    ax1.set_title('error')\n",
        "    # share x only\n",
        "    ax2 = plt.subplot(132)\n",
        "    plt.plot(vi_re)\n",
        "    # make these tick labels invisible\n",
        "    \n",
        "    ax2.set_title('rewards')\n",
        "    ax3 = plt.subplot(133)\n",
        "    plt.plot(mean_re)\n",
        "    # make these tick labels invisible\n",
        "    ax3.set_title('Mean V')\n",
        "    plt.plot()\n",
        "    #plt.title('MDP result')\n",
        "    return result,errors,vi_re"
      ],
      "execution_count": 10,
      "outputs": []
    },
    {
      "cell_type": "code",
      "metadata": {
        "id": "Dz3M-dFsRCQ5"
      },
      "source": [
        "gamma = 0.999999996\n",
        "\n",
        "pi = mdp.PolicyIteration(P, R, gamma)\n",
        "pi.setVerbose()\n",
        "pi_result,pi_error,pi_reward = vi_plot(pi)"
      ],
      "execution_count": null,
      "outputs": []
    },
    {
      "cell_type": "code",
      "metadata": {
        "id": "W5jYNRl1RCQ6"
      },
      "source": [
        "P, R = example.forest(S=400, r1=400, r2=200, p=0.1, is_sparse=False)"
      ],
      "execution_count": null,
      "outputs": []
    },
    {
      "cell_type": "code",
      "metadata": {
        "scrolled": true,
        "id": "myKGh9u6RCQ6"
      },
      "source": [
        "gamma = 0.999999996\n",
        "\n",
        "pi = mdp.PolicyIteration(P, R, gamma)\n",
        "pi.setVerbose()\n",
        "pi_result,pi_error,pi_reward = vi_plot(pi)\n",
        "sum(pi.policy)"
      ],
      "execution_count": null,
      "outputs": []
    },
    {
      "cell_type": "code",
      "metadata": {
        "id": "eRBFxhAMRCQ7",
        "outputId": "840ccf6f-63b8-42be-9fd8-dbc788f45a45"
      },
      "source": [
        "plt.plot([i['Max V'] for i in pi_result])"
      ],
      "execution_count": null,
      "outputs": [
        {
          "output_type": "execute_result",
          "data": {
            "text/plain": [
              "[<matplotlib.lines.Line2D at 0x19e0f6d5248>]"
            ]
          },
          "metadata": {
            "tags": []
          },
          "execution_count": 16
        },
        {
          "output_type": "display_data",
          "data": {
            "image/png": "[encoded data removed]",
            "text/plain": [
              "<Figure size 432x288 with 1 Axes>"
            ]
          },
          "metadata": {
            "tags": [],
            "needs_background": "light"
          }
        }
      ]
    },
    {
      "cell_type": "code",
      "metadata": {
        "id": "jaO6fz8iRCQ7",
        "outputId": "f96117d9-ce85-4199-f1c3-0e0c8777c138"
      },
      "source": [
        "len(pi.V)"
      ],
      "execution_count": null,
      "outputs": [
        {
          "output_type": "execute_result",
          "data": {
            "text/plain": [
              "400"
            ]
          },
          "metadata": {
            "tags": []
          },
          "execution_count": 5
        }
      ]
    },
    {
      "cell_type": "code",
      "metadata": {
        "id": "8Uj3vU9mRCQ7",
        "outputId": "3e3788a5-46d3-49ba-eb38-c920906ed828"
      },
      "source": [
        "re = [100,-0,-0]\n",
        "gamma = [0.9,0.99,0.999]\n",
        "#pp,rr = get_PR(gym_p,env,re)\n",
        "results =[]\n",
        "for g in gamma:\n",
        "    vi = mdp.ValueIteration(P,R,g)\n",
        "    result = vi.run()\n",
        "    results.append([i['Mean V'] for i in result])\n",
        "    plt.plot([i['Mean V'] for i in result],label='Gamma='+str(g))\n",
        "#pd.DataFrame(result)\n",
        "plt.legend()\n",
        "plt.title('Gamma vs Iteration')"
      ],
      "execution_count": null,
      "outputs": [
        {
          "output_type": "execute_result",
          "data": {
            "text/plain": [
              "Text(0.5, 1.0, 'Gamma vs Iteration')"
            ]
          },
          "metadata": {
            "tags": []
          },
          "execution_count": 80
        },
        {
          "output_type": "display_data",
          "data": {
            "image/png": "[encoded data removed]",
            "text/plain": [
              "<Figure size 432x288 with 1 Axes>"
            ]
          },
          "metadata": {
            "tags": [],
            "needs_background": "light"
          }
        }
      ]
    },
    {
      "cell_type": "code",
      "metadata": {
        "scrolled": true,
        "id": "HpJqKWp8RCQ8"
      },
      "source": [
        "#P, R = example.forest(S=500, r1=200, r2=20, p=0.1, is_sparse=False)\n",
        "gamma = 0.999999996\n",
        "vi = mdp.ValueIteration(P, R, gamma, epsilon=0.001,max_iter = 100000)\n",
        "vi.setVerbose()\n",
        "result,error,reward = vi_plot(vi)\n",
        "sum(vi.policy)"
      ],
      "execution_count": null,
      "outputs": []
    },
    {
      "cell_type": "code",
      "metadata": {
        "id": "9eqO8EEZRCQ8"
      },
      "source": [
        "pi.policy"
      ],
      "execution_count": null,
      "outputs": []
    },
    {
      "cell_type": "code",
      "metadata": {
        "id": "HUc4GAsDRCQ8",
        "outputId": "dde143b7-619b-46e6-be05-2ef413b6a798"
      },
      "source": [
        "sum([pi.policy[i] == vi.policy[i] for i in range(400)])"
      ],
      "execution_count": null,
      "outputs": [
        {
          "output_type": "execute_result",
          "data": {
            "text/plain": [
              "400"
            ]
          },
          "metadata": {
            "tags": []
          },
          "execution_count": 7
        }
      ]
    },
    {
      "cell_type": "code",
      "metadata": {
        "scrolled": false,
        "id": "bp2OW2i9RCQ9",
        "outputId": "0c189807-e10f-404c-e233-2d0cc367e246"
      },
      "source": [
        "n_iter = 1000000\n",
        "gamma = 0.999999996\n",
        "ql = mdp.QLearning(P, R, 0.999999996 , n_iter=n_iter,\n",
        "                   epsilon=1,epsilon_decay=0.99,epsilon_min=0.1,\n",
        "                   alpha_decay=0.999,alpha = 0.1,alpha_min=0.01\n",
        "                   ,run_stat_frequency=1)\n",
        "ql.setVerbose()\n",
        "ql_result,ql_error,ql_reward = vi_plot(ql)\n",
        "sum(ql.policy)"
      ],
      "execution_count": null,
      "outputs": [
        {
          "output_type": "execute_result",
          "data": {
            "text/plain": [
              "190"
            ]
          },
          "metadata": {
            "tags": []
          },
          "execution_count": 18
        },
        {
          "output_type": "display_data",
          "data": {
            "image/png": "[encoded data removed]",
            "text/plain": [
              "<Figure size 432x288 with 2 Axes>"
            ]
          },
          "metadata": {
            "tags": [],
            "needs_background": "light"
          }
        }
      ]
    },
    {
      "cell_type": "code",
      "metadata": {
        "id": "wPnNw33uRCQ9",
        "outputId": "fb7f73a9-c86f-415b-a305-1d383252a5e8"
      },
      "source": [
        "import time\n",
        "start = time.time()\n",
        "n_iter = 10000000\n",
        "ql = mdp.QLearning(P, R, 0.999999996 , n_iter=n_iter,\n",
        "                   epsilon=1,epsilon_decay=0.9999,epsilon_min=0.1,\n",
        "                   alpha_decay=0.9999,alpha = 1,alpha_min=0.01\n",
        "                   ,run_stat_frequency=1,decay_every=100)\n",
        "ql.setVerbose()\n",
        "ql_result,ql_error,ql_reward = vi_plot(ql)\n",
        "print(sum(ql.policy))\n",
        "print(time.time()-start)"
      ],
      "execution_count": null,
      "outputs": [
        {
          "output_type": "stream",
          "text": [
            "333\n",
            "701.9699947834015\n"
          ],
          "name": "stdout"
        },
        {
          "output_type": "display_data",
          "data": {
            "image/png": "[encoded data removed]",
            "text/plain": [
              "<Figure size 432x288 with 2 Axes>"
            ]
          },
          "metadata": {
            "tags": [],
            "needs_background": "light"
          }
        }
      ]
    },
    {
      "cell_type": "code",
      "metadata": {
        "id": "01ndpk1DRCQ9",
        "outputId": "5075b0dc-f499-4349-a8d1-be26b4357810"
      },
      "source": [
        "import time\n",
        "start = time.time()\n",
        "n_iter = 10000000\n",
        "ql = mdp.QLearning(P, R, 0.999999996 , n_iter=n_iter,\n",
        "                   epsilon=1,epsilon_decay=0.9999,epsilon_min=0.1,\n",
        "                   alpha_decay=0.9999,alpha = 1,alpha_min=0.01\n",
        "                   ,run_stat_frequency=1,decay_every=100)\n",
        "ql.setVerbose()\n",
        "ql_run = ql.run()\n",
        "ql_result,ql_error,ql_reward = vi_plot(ql_run)\n",
        "print(sum(ql.policy))\n",
        "print(time.time()-start)"
      ],
      "execution_count": null,
      "outputs": [
        {
          "output_type": "stream",
          "text": [
            "320\n",
            "821.8197267055511\n"
          ],
          "name": "stdout"
        },
        {
          "output_type": "display_data",
          "data": {
            "image/png": "[encoded data removed]",
            "text/plain": [
              "<Figure size 432x288 with 2 Axes>"
            ]
          },
          "metadata": {
            "tags": [],
            "needs_background": "light"
          }
        }
      ]
    },
    {
      "cell_type": "code",
      "metadata": {
        "id": "XsyPThxVRCQ-"
      },
      "source": [
        "ql.policy"
      ],
      "execution_count": null,
      "outputs": []
    },
    {
      "cell_type": "code",
      "metadata": {
        "id": "Cae9EA60RCQ-",
        "outputId": "2c8f5875-79bb-43cd-b91c-0a76e30ebd5d"
      },
      "source": [
        "ql.max_iter"
      ],
      "execution_count": null,
      "outputs": [
        {
          "output_type": "execute_result",
          "data": {
            "text/plain": [
              "10000000"
            ]
          },
          "metadata": {
            "tags": []
          },
          "execution_count": 83
        }
      ]
    },
    {
      "cell_type": "code",
      "metadata": {
        "id": "-gKUteVFRCQ-"
      },
      "source": [
        "pd.DataFrame(ql.V).to_pickle('q_v.pkl')"
      ],
      "execution_count": null,
      "outputs": []
    },
    {
      "cell_type": "code",
      "metadata": {
        "id": "QdhvW0uQRCQ_",
        "outputId": "5177fdcc-3db1-4280-be13-a773d4db5b7b"
      },
      "source": [
        "len(ql_result)"
      ],
      "execution_count": null,
      "outputs": [
        {
          "output_type": "execute_result",
          "data": {
            "text/plain": [
              "10000000"
            ]
          },
          "metadata": {
            "tags": []
          },
          "execution_count": 53
        }
      ]
    },
    {
      "cell_type": "code",
      "metadata": {
        "id": "eTZw3KHnRCQ_"
      },
      "source": [
        "pd.DataFrame(ql_result).to_pickle('ql_result.pkl')"
      ],
      "execution_count": null,
      "outputs": []
    },
    {
      "cell_type": "code",
      "metadata": {
        "id": "7jW24Ig6RCQ_"
      },
      "source": [
        "ql_result = pd.read_pickle('../../ql_result.pkl')"
      ],
      "execution_count": null,
      "outputs": []
    },
    {
      "cell_type": "code",
      "metadata": {
        "id": "cHGf-FYhRCQ_",
        "outputId": "2d97dfe4-57f5-4df5-b00e-47345f6633e7"
      },
      "source": [
        "ql_result.shape"
      ],
      "execution_count": null,
      "outputs": [
        {
          "output_type": "execute_result",
          "data": {
            "text/plain": [
              "(10000000, 11)"
            ]
          },
          "metadata": {
            "tags": []
          },
          "execution_count": 207
        }
      ]
    },
    {
      "cell_type": "code",
      "metadata": {
        "id": "KnCBHlUORCQ_",
        "outputId": "b59f6736-7ca0-4042-c0cd-3b645be4079e"
      },
      "source": [
        "0.9999**(5000000/1000)"
      ],
      "execution_count": null,
      "outputs": [
        {
          "output_type": "execute_result",
          "data": {
            "text/plain": [
              "0.006721111959865588"
            ]
          },
          "metadata": {
            "tags": []
          },
          "execution_count": 38
        }
      ]
    },
    {
      "cell_type": "code",
      "metadata": {
        "id": "omx99E7TRCRA",
        "outputId": "5be3f4a0-93b1-495a-dfb3-5b79eb6735b0"
      },
      "source": [
        "n_iter = 10000\n",
        "ql = mdp.QLearning(P, R, 0.99995 , n_iter=n_iter,\n",
        "                   epsilon=0.1,epsilon_decay=0.99,epsilon_min=0.1,\n",
        "                   alpha_decay=0.99,alpha = 1,alpha_min=0.01\n",
        "                   ,run_stat_frequency=1,decay_every=10)\n",
        "ql.setVerbose()\n",
        "qresult = ql.run()\n",
        "ql_result,ql_error,ql_reward = vi_plot(qresult)\n",
        "sum(ql.policy)"
      ],
      "execution_count": null,
      "outputs": [
        {
          "output_type": "execute_result",
          "data": {
            "text/plain": [
              "8"
            ]
          },
          "metadata": {
            "tags": []
          },
          "execution_count": 261
        },
        {
          "output_type": "display_data",
          "data": {
            "image/png": "[encoded data removed]",
            "text/plain": [
              "<Figure size 432x288 with 2 Axes>"
            ]
          },
          "metadata": {
            "tags": [],
            "needs_background": "light"
          }
        }
      ]
    },
    {
      "cell_type": "code",
      "metadata": {
        "id": "QJVmFWk1RCRA",
        "outputId": "2e6b09b5-d77e-482a-8729-eff9031a2942"
      },
      "source": [
        "plt.plot([i['Max V'] for i in ql_result])\n",
        "plt.plot([i['Mean V'] for i in ql_result])\n",
        "plt.title('Sub-optimal Converged QL')"
      ],
      "execution_count": null,
      "outputs": [
        {
          "output_type": "execute_result",
          "data": {
            "text/plain": [
              "Text(0.5, 1.0, 'Sub-optimal Converged QL')"
            ]
          },
          "metadata": {
            "tags": []
          },
          "execution_count": 262
        },
        {
          "output_type": "display_data",
          "data": {
            "image/png": "[encoded data removed]",
            "text/plain": [
              "<Figure size 432x288 with 1 Axes>"
            ]
          },
          "metadata": {
            "tags": [],
            "needs_background": "light"
          }
        }
      ]
    },
    {
      "cell_type": "code",
      "metadata": {
        "id": "3TGi6spZRCRA",
        "outputId": "eaf30114-515c-4987-f9fb-723c3f5fd7d3"
      },
      "source": [
        "n_iter = 100000\n",
        "gamma = 0.9\n",
        "ql_test = mdp.QLearning(P, R, gamma , n_iter=n_iter,\n",
        "                   epsilon=1,epsilon_decay=0.99,epsilon_min=0.1,\n",
        "                   alpha_decay=0.999,alpha = 1,alpha_min=0.01\n",
        "                   ,run_stat_frequency=1)\n",
        "#ql.setVerbose()\n",
        "\n",
        "result_test = ql_test.run()\n",
        "res,_,_ = vi_plot(result_test)\n",
        "#_ = vi_plot(result_test)\n",
        "sum(ql_test.policy)"
      ],
      "execution_count": null,
      "outputs": [
        {
          "output_type": "execute_result",
          "data": {
            "text/plain": [
              "63"
            ]
          },
          "metadata": {
            "tags": []
          },
          "execution_count": 76
        },
        {
          "output_type": "display_data",
          "data": {
            "image/png": "[encoded data removed]",
            "text/plain": [
              "<Figure size 432x288 with 2 Axes>"
            ]
          },
          "metadata": {
            "tags": [],
            "needs_background": "light"
          }
        }
      ]
    },
    {
      "cell_type": "code",
      "metadata": {
        "id": "z8fLSUlpRCRB",
        "outputId": "6df511ee-73cd-492b-94ad-cd205df466b8"
      },
      "source": [
        "print('hhelo')"
      ],
      "execution_count": null,
      "outputs": [
        {
          "output_type": "stream",
          "text": [
            "hhelo\n"
          ],
          "name": "stdout"
        }
      ]
    },
    {
      "cell_type": "code",
      "metadata": {
        "id": "2CWUhDMZRCRB"
      },
      "source": [
        "import time\n",
        "start = time.time()\n",
        "n_iter = 10000000\n",
        "ql = mdp.QLearning(P, R, 0.999999996 , n_iter=n_iter,\n",
        "                   epsilon=1,epsilon_decay=0.9999,epsilon_min=0.1,\n",
        "                   alpha_decay=0.9999,alpha = 1,alpha_min=0.01\n",
        "                   ,run_stat_frequency=1,decay_every=100)\n",
        "ql.setVerbose()\n",
        "ql_result,ql_error,ql_reward = vi_plot(ql)\n",
        "print(sum(ql.policy))\n",
        "print(time.time()-start)"
      ],
      "execution_count": null,
      "outputs": []
    },
    {
      "cell_type": "code",
      "metadata": {
        "id": "EJIpwBVSRCRB",
        "outputId": "26eed15f-0351-430f-92ae-cc36341b9cf1"
      },
      "source": [
        "0.999**400"
      ],
      "execution_count": null,
      "outputs": [
        {
          "output_type": "execute_result",
          "data": {
            "text/plain": [
              "0.6701859060067401"
            ]
          },
          "metadata": {
            "tags": []
          },
          "execution_count": 111
        }
      ]
    },
    {
      "cell_type": "code",
      "metadata": {
        "id": "10FJLbzsRCRD",
        "outputId": "dd129a85-bee4-4d91-b2f7-d75bbe96f242"
      },
      "source": [
        "0.9**400"
      ],
      "execution_count": null,
      "outputs": [
        {
          "output_type": "execute_result",
          "data": {
            "text/plain": [
              "4.977414122938541e-19"
            ]
          },
          "metadata": {
            "tags": []
          },
          "execution_count": 109
        }
      ]
    },
    {
      "cell_type": "code",
      "metadata": {
        "id": "JJqnmPACRCRD",
        "outputId": "f6cdd528-4849-4aec-d51a-c9fab1d21f10"
      },
      "source": [
        "0.95**400"
      ],
      "execution_count": null,
      "outputs": [
        {
          "output_type": "execute_result",
          "data": {
            "text/plain": [
              "1.2286894111517744e-09"
            ]
          },
          "metadata": {
            "tags": []
          },
          "execution_count": 110
        }
      ]
    },
    {
      "cell_type": "code",
      "metadata": {
        "id": "5wyJ7ANrRCRE"
      },
      "source": [
        "n_iter = 100000\n",
        "gamma = 0.95\n",
        "epsilon_decay = [0.9,0.95,0.99]\n",
        "ep_decay_result = []\n",
        "for ed in epsilon_decay:\n",
        "    ql_test = mdp.QLearning(P, R, gamma , n_iter=n_iter,\n",
        "                   epsilon=1,epsilon_decay=ed,epsilon_min=0.1,\n",
        "                   alpha_decay=0.999,alpha = 0.1,alpha_min=0.01\n",
        "                   ,run_stat_frequency=1,decay_every=1)\n",
        "#ql.setVerbose()\n",
        "\n",
        "    result_test = ql_test.run()\n",
        "    #res,_,_ = vi_plot(result_test)\n",
        "    ep_decay_result.append([i['Mean V'] for i in result_test])\n",
        "#_ = vi_plot(result_test)"
      ],
      "execution_count": null,
      "outputs": []
    },
    {
      "cell_type": "code",
      "metadata": {
        "id": "-RFwvP-tRCRE",
        "outputId": "06a16684-5c37-42fe-91f4-8ef8b2a5f794"
      },
      "source": [
        "for i in range(3):\n",
        "    plt.plot(ep_decay_result[i],label='ep_decay='+str(epsilon_decay[i]))\n",
        "plt.legend(loc='best')\n",
        "plt.title('Mean V vs Decay')#n_iter= 1000000"
      ],
      "execution_count": null,
      "outputs": [
        {
          "output_type": "execute_result",
          "data": {
            "text/plain": [
              "Text(0.5, 1.0, 'Mean V vs Decay')"
            ]
          },
          "metadata": {
            "tags": []
          },
          "execution_count": 150
        },
        {
          "output_type": "display_data",
          "data": {
            "image/png": "[encoded data removed]",
            "text/plain": [
              "<Figure size 432x288 with 1 Axes>"
            ]
          },
          "metadata": {
            "tags": [],
            "needs_background": "light"
          }
        }
      ]
    },
    {
      "cell_type": "code",
      "metadata": {
        "id": "e4xYBKx7RCRE"
      },
      "source": [
        "n_iter = 100000\n",
        "gamma = 0.95\n",
        "epsilon_decay = [0.9,0.95,0.99]\n",
        "alphas = [1,0.5,0.1]\n",
        "ep_decay_result = []\n",
        "for a in alphas:\n",
        "    ql_test = mdp.QLearning(P, R, gamma , n_iter=n_iter,\n",
        "                   epsilon=1,epsilon_decay=0.95,epsilon_min=0.1,\n",
        "                   alpha_decay=0.999,alpha = a,alpha_min=0.01\n",
        "                   ,run_stat_frequency=None,decay_every=1)\n",
        "#ql.setVerbose()\n",
        "\n",
        "    result_test = ql_test.run()\n",
        "    #res,_,_ = vi_plot(result_test)\n",
        "    ep_decay_result.append([i['Mean V'] for i in result_test])\n",
        "#_ = vi_plot(result_test)"
      ],
      "execution_count": null,
      "outputs": []
    },
    {
      "cell_type": "code",
      "metadata": {
        "id": "KuF-DDT9RCRE",
        "outputId": "ef64ea8b-2342-4955-f7ea-eb2a1a2d5911"
      },
      "source": [
        "for i in range(3):\n",
        "    plt.plot(ep_decay_result[i],label='Alpha='+str(alphas[i]))\n",
        "plt.legend(loc='best')\n",
        "plt.title('Forest Mean V vs Alpha')#n_iter= 1000000"
      ],
      "execution_count": null,
      "outputs": [
        {
          "output_type": "execute_result",
          "data": {
            "text/plain": [
              "Text(0.5, 1.0, 'Forest Mean V vs Alpha')"
            ]
          },
          "metadata": {
            "tags": []
          },
          "execution_count": 158
        },
        {
          "output_type": "display_data",
          "data": {
            "image/png": "[encoded data removed]",
            "text/plain": [
              "<Figure size 432x288 with 1 Axes>"
            ]
          },
          "metadata": {
            "tags": [],
            "needs_background": "light"
          }
        }
      ]
    },
    {
      "cell_type": "code",
      "metadata": {
        "id": "CJxRn_BERCRF",
        "outputId": "32edc78b-f7fa-43a7-b35f-1588e2ae35c9"
      },
      "source": [
        "gamma = [0.9,0.99,0.999]\n",
        "alpha = [1,0.5,0.1]\n",
        "epsilon = [1.0,0.5,0.1]\n",
        "#pp,rr = get_PR(gym_p,env,re)\n",
        "results =[]\n",
        "n_iter = 500000\n",
        "for a in alpha:\n",
        "    #vi = mdp.ValueIteration(pp,rr,g)\n",
        "    ql = mdp.QLearning(pp, rr, gamma = 0.999 , n_iter=n_iter,epsilon_decay=0.999,epsilon_min=0.001,epsilon=e,\n",
        "                       alpha_decay=0.99,alpha=0.1,alpha_min = 0.01)\n",
        "\n",
        "    qlresult = ql.run()\n",
        "    results.append([i['Mean V'] for i in qlresult])\n",
        "    plt.plot([i['Mean V'] for i in qlresult],label='ALpha='+str(a))\n",
        "#pd.DataFrame(result)\n",
        "plt.legend()\n",
        "plt.title('Forest Q learning Epsilon vs Iteration')"
      ],
      "execution_count": null,
      "outputs": [
        {
          "output_type": "execute_result",
          "data": {
            "text/plain": [
              "Text(0.5, 1.0, 'Forest Q learning Epsilon vs Iteration')"
            ]
          },
          "metadata": {
            "tags": []
          },
          "execution_count": 164
        },
        {
          "output_type": "display_data",
          "data": {
            "image/png": "[encoded data removed]",
            "text/plain": [
              "<Figure size 432x288 with 1 Axes>"
            ]
          },
          "metadata": {
            "tags": [],
            "needs_background": "light"
          }
        }
      ]
    },
    {
      "cell_type": "code",
      "metadata": {
        "id": "Vdm9xR7kRCRF",
        "outputId": "800ec6cc-5e57-40c5-d736-f53894b08f2e"
      },
      "source": [
        "gamma = [0.9,0.99,0.999]\n",
        "alpha = [1,0.5,0.1]\n",
        "epsilon = [1.0,0.5,0.1]\n",
        "#pp,rr = get_PR(gym_p,env,re)\n",
        "results =[]\n",
        "n_iter = 500000\n",
        "for e in epsilon:\n",
        "    #vi = mdp.ValueIteration(pp,rr,g)\n",
        "    ql = mdp.QLearning(pp, rr, gamma = 0.999 , n_iter=n_iter,epsilon_decay=0.999,epsilon_min=0.001,epsilon=e,\n",
        "                       alpha_decay=0.99,alpha=0.1,alpha_min = 0.01)\n",
        "\n",
        "    qlresult = ql.run()\n",
        "    results.append([i['Mean V'] for i in qlresult])\n",
        "    plt.plot([i['Mean V'] for i in qlresult],label='Epsilon='+str(e))\n",
        "#pd.DataFrame(result)\n",
        "plt.legend()\n",
        "plt.title('Forest Q learning Epsilon vs Iteration')"
      ],
      "execution_count": null,
      "outputs": [
        {
          "output_type": "execute_result",
          "data": {
            "text/plain": [
              "Text(0.5, 1.0, 'Forest Q learning Epsilon vs Iteration')"
            ]
          },
          "metadata": {
            "tags": []
          },
          "execution_count": 164
        },
        {
          "output_type": "display_data",
          "data": {
            "image/png": "[encoded data removed]",
            "text/plain": [
              "<Figure size 432x288 with 1 Axes>"
            ]
          },
          "metadata": {
            "tags": [],
            "needs_background": "light"
          }
        }
      ]
    },
    {
      "cell_type": "code",
      "metadata": {
        "id": "EaSge-3ORCRF",
        "outputId": "22ef71e1-919a-48df-fba5-a56723775675"
      },
      "source": [
        "gamma = [0.9,0.99,0.999]\n",
        "alpha = [1,0.5,0.1]\n",
        "epsilon = [1.0,0.5,0.1]\n",
        "#pp,rr = get_PR(gym_p,env,re)\n",
        "results =[]\n",
        "n_iter = 500000\n",
        "for e in epsilon:\n",
        "    #vi = mdp.ValueIteration(pp,rr,g)\n",
        "    ql = mdp.QLearning(P, R, gamma = 0.999 , n_iter=n_iter,epsilon_decay=0.999,epsilon_min=0.001,epsilon=e,\n",
        "                       alpha_decay=0.99,alpha=0.1,alpha_min = 0.01)\n",
        "\n",
        "    qlresult = ql.run()\n",
        "    results.append([i['Mean V'] for i in qlresult])\n",
        "    plt.plot([i['Mean V'] for i in qlresult],label='Epsilon='+str(e))\n",
        "#pd.DataFrame(result)\n",
        "plt.legend()\n",
        "plt.title('Forest Q learning Epsilon vs Iteration')"
      ],
      "execution_count": null,
      "outputs": [
        {
          "output_type": "execute_result",
          "data": {
            "text/plain": [
              "Text(0.5, 1.0, 'Forest Q learning Epsilon vs Iteration')"
            ]
          },
          "metadata": {
            "tags": []
          },
          "execution_count": 176
        },
        {
          "output_type": "display_data",
          "data": {
            "image/png": "[encoded data removed]",
            "text/plain": [
              "<Figure size 432x288 with 1 Axes>"
            ]
          },
          "metadata": {
            "tags": [],
            "needs_background": "light"
          }
        }
      ]
    },
    {
      "cell_type": "code",
      "metadata": {
        "id": "cF_mUlE-RCRG",
        "outputId": "3abe3cd1-865d-47f1-c5f1-508a2d9e1ede"
      },
      "source": [
        "gamma = [0.9,0.99,0.999]\n",
        "alpha = [0.1,0.05,0.01]\n",
        "epsilon = [1.0,0.5,0.1]\n",
        "#pp,rr = get_PR(gym_p,env,re)\n",
        "results =[]\n",
        "n_iter = 500000\n",
        "for a in alpha:\n",
        "    #vi = mdp.ValueIteration(pp,rr,g)\n",
        "    ql = mdp.QLearning(pp, rr, gamma = 0.999 , n_iter=n_iter,epsilon_decay=0.999,epsilon_min=0.001,epsilon=1,\n",
        "                       alpha_decay=0.99,alpha=a,alpha_min = 0.01)\n",
        "\n",
        "    qlresult = ql.run()\n",
        "    results.append([i['Mean V'] for i in qlresult])\n",
        "    plt.plot([i['Mean V'] for i in qlresult],label='Alpha='+str(a))\n",
        "#pd.DataFrame(result)\n",
        "plt.legend()\n",
        "plt.title('Forest Q learning Alpha vs Iteration')"
      ],
      "execution_count": null,
      "outputs": [
        {
          "output_type": "execute_result",
          "data": {
            "text/plain": [
              "Text(0.5, 1.0, 'Forest Q learning Alpha vs Iteration')"
            ]
          },
          "metadata": {
            "tags": []
          },
          "execution_count": 174
        },
        {
          "output_type": "display_data",
          "data": {
            "image/png": "[encoded data removed]",
            "text/plain": [
              "<Figure size 432x288 with 1 Axes>"
            ]
          },
          "metadata": {
            "tags": [],
            "needs_background": "light"
          }
        }
      ]
    },
    {
      "cell_type": "code",
      "metadata": {
        "id": "9GhmqngxRCRG",
        "outputId": "50bcdf79-70c8-44b2-9cba-efced2c56a7d"
      },
      "source": [
        "gamma = [0.9,0.99,0.999]\n",
        "alpha = [0.1,0.05,0.01]\n",
        "epsilon = [1.0,0.5,0.1]\n",
        "#pp,rr = get_PR(gym_p,env,re)\n",
        "results =[]\n",
        "n_iter = 500000\n",
        "for a in alpha:\n",
        "    #vi = mdp.ValueIteration(pp,rr,g)\n",
        "    ql = mdp.QLearning(pp, rr, gamma = 0.999 , n_iter=n_iter,epsilon_decay=0.999,epsilon_min=0.001,epsilon=1,\n",
        "                       alpha_decay=0.99,alpha=a,alpha_min = 0.01)\n",
        "\n",
        "    qlresult = ql.run()\n",
        "    results.append([i['Mean V'] for i in qlresult])\n",
        "    plt.plot([i['Mean V'] for i in qlresult],label='Alpha='+str(a))\n",
        "#pd.DataFrame(result)\n",
        "plt.legend()\n",
        "plt.title('Forest Q learning Alpha vs Iteration')"
      ],
      "execution_count": null,
      "outputs": [
        {
          "output_type": "execute_result",
          "data": {
            "text/plain": [
              "Text(0.5, 1.0, 'Forest Q learning Alpha vs Iteration')"
            ]
          },
          "metadata": {
            "tags": []
          },
          "execution_count": 220
        },
        {
          "output_type": "display_data",
          "data": {
            "image/png": "[encoded data removed]",
            "text/plain": [
              "<Figure size 432x288 with 1 Axes>"
            ]
          },
          "metadata": {
            "tags": [],
            "needs_background": "light"
          }
        }
      ]
    },
    {
      "cell_type": "code",
      "metadata": {
        "id": "FL70OBpSRCRG",
        "outputId": "035dc7e7-f758-4162-dc72-0bcdde122001"
      },
      "source": [
        "gamma = [0.9,0.99,0.999]\n",
        "alpha = [0.1,0.05,0.01]\n",
        "epsilon = [1.0,0.5,0.1]\n",
        "epsilon_decay = [0.9,0.95,0.99]\n",
        "\n",
        "#pp,rr = get_PR(gym_p,env,re)\n",
        "results =[]\n",
        "n_iter = 500000\n",
        "for e in epsilon_decay:\n",
        "    #vi = mdp.ValueIteration(pp,rr,g)\n",
        "    ql = mdp.QLearning(pp, rr, gamma = 0.999 , n_iter=n_iter,epsilon_decay=e,epsilon_min=0.001,epsilon=1,\n",
        "                       alpha_decay=0.99,alpha=1.0,alpha_min = 0.01)\n",
        "\n",
        "    qlresult = ql.run()\n",
        "    results.append([i['Mean V'] for i in qlresult])\n",
        "    plt.plot([i['Mean V'] for i in qlresult],label='Epsilon Decay='+str(e))\n",
        "#pd.DataFrame(result)\n",
        "plt.legend()\n",
        "plt.title('Forest Q learning Epsilon Decay vs Iteration')"
      ],
      "execution_count": null,
      "outputs": [
        {
          "output_type": "execute_result",
          "data": {
            "text/plain": [
              "Text(0.5, 1.0, 'Forest Q learning Epsilon Decay vs Iteration')"
            ]
          },
          "metadata": {
            "tags": []
          },
          "execution_count": 168
        },
        {
          "output_type": "display_data",
          "data": {
            "image/png": "[encoded data removed]",
            "text/plain": [
              "<Figure size 432x288 with 1 Axes>"
            ]
          },
          "metadata": {
            "tags": [],
            "needs_background": "light"
          }
        }
      ]
    },
    {
      "cell_type": "code",
      "metadata": {
        "id": "XMYHZbP9RCRH",
        "outputId": "4e699726-0372-4034-f99b-0f14650b155b"
      },
      "source": [
        "gamma = [0.9,0.99,0.999]\n",
        "alpha = [0.1,0.05,0.01]\n",
        "epsilon = [1.0,0.5,0.1]\n",
        "epsilon_decay = [0.9,0.95,0.99]\n",
        "\n",
        "#pp,rr = get_PR(gym_p,env,re)\n",
        "results =[]\n",
        "n_iter = 500000\n",
        "for g in gamma:\n",
        "    #vi = mdp.ValueIteration(pp,rr,g)\n",
        "    ql = mdp.QLearning(pp, rr, gamma = g , n_iter=n_iter,epsilon_decay=0.99,epsilon_min=0.001,epsilon=1,\n",
        "                       alpha_decay=0.99,alpha=1.0,alpha_min = 0.01)\n",
        "\n",
        "    qlresult = ql.run()\n",
        "    results.append([i['Mean V'] for i in qlresult])\n",
        "    plt.plot([i['Mean V'] for i in qlresult],label='Gamma='+str(g))\n",
        "#pd.DataFrame(result)\n",
        "plt.legend()\n",
        "plt.title('Forest Q learning Gamma vs Iteration')"
      ],
      "execution_count": null,
      "outputs": [
        {
          "output_type": "execute_result",
          "data": {
            "text/plain": [
              "Text(0.5, 1.0, 'Forest Q learning Gamma vs Iteration')"
            ]
          },
          "metadata": {
            "tags": []
          },
          "execution_count": 222
        },
        {
          "output_type": "display_data",
          "data": {
            "image/png": "[encoded data removed]",
            "text/plain": [
              "<Figure size 432x288 with 1 Axes>"
            ]
          },
          "metadata": {
            "tags": [],
            "needs_background": "light"
          }
        }
      ]
    },
    {
      "cell_type": "code",
      "metadata": {
        "id": "2GOf70hFRCRH",
        "outputId": "0471e7b1-4b38-4939-f454-7e73a4113849"
      },
      "source": [
        "np.mean(ep_decay_result[1])"
      ],
      "execution_count": null,
      "outputs": [
        {
          "output_type": "execute_result",
          "data": {
            "text/plain": [
              "2096.042126620864"
            ]
          },
          "metadata": {
            "tags": []
          },
          "execution_count": 95
        }
      ]
    },
    {
      "cell_type": "code",
      "metadata": {
        "id": "hnlc-_6HRCRH",
        "outputId": "9912752d-1465-4d2c-e5f0-07ad2a6057b4"
      },
      "source": [
        "plt.plot([i['Max V'] for i in result_test])\n",
        "plt.plot([i['Mean V'] for i in result_test])"
      ],
      "execution_count": null,
      "outputs": [
        {
          "output_type": "execute_result",
          "data": {
            "text/plain": [
              "[<matplotlib.lines.Line2D at 0x22c67f44dc8>]"
            ]
          },
          "metadata": {
            "tags": []
          },
          "execution_count": 78
        },
        {
          "output_type": "display_data",
          "data": {
            "image/png": "[encoded data removed]",
            "text/plain": [
              "<Figure size 432x288 with 1 Axes>"
            ]
          },
          "metadata": {
            "tags": [],
            "needs_background": "light"
          }
        }
      ]
    },
    {
      "cell_type": "code",
      "metadata": {
        "id": "OfknoFYDRCRH",
        "outputId": "df7899ee-915b-4ba2-9d7c-bd849e0a5f58"
      },
      "source": [
        "len(ep_decay_result[0])"
      ],
      "execution_count": null,
      "outputs": [
        {
          "output_type": "execute_result",
          "data": {
            "text/plain": [
              "10000000"
            ]
          },
          "metadata": {
            "tags": []
          },
          "execution_count": 105
        }
      ]
    },
    {
      "cell_type": "code",
      "metadata": {
        "id": "Xw3SERWkRCRI",
        "outputId": "4a75e5ae-e2b0-4752-9c48-0d0bfd419ad6"
      },
      "source": [
        "plt.plot([i['Max V'] for i in result_test])\n",
        "plt.plot([i['Mean V'] for i in result_test])"
      ],
      "execution_count": null,
      "outputs": [
        {
          "output_type": "execute_result",
          "data": {
            "text/plain": [
              "[<matplotlib.lines.Line2D at 0x22c5d6c9a48>]"
            ]
          },
          "metadata": {
            "tags": []
          },
          "execution_count": 74
        },
        {
          "output_type": "display_data",
          "data": {
            "image/png": "[encoded data removed]",
            "text/plain": [
              "<Figure size 432x288 with 1 Axes>"
            ]
          },
          "metadata": {
            "tags": [],
            "needs_background": "light"
          }
        }
      ]
    },
    {
      "cell_type": "code",
      "metadata": {
        "id": "hnIR9tbtRCRI",
        "outputId": "261ac9b6-e2da-4a83-d09c-39d176cf562c"
      },
      "source": [
        "plt.plot([i['Max V'] for i in ql_result])\n",
        "plt.plot([i['Mean V'] for i in ql_result])\n",
        "plt.title('Converged QL')"
      ],
      "execution_count": null,
      "outputs": [
        {
          "output_type": "execute_result",
          "data": {
            "text/plain": [
              "Text(0.5, 1.0, 'Converged QL')"
            ]
          },
          "metadata": {
            "tags": []
          },
          "execution_count": 77
        },
        {
          "output_type": "display_data",
          "data": {
            "image/png": "[encoded data removed]",
            "text/plain": [
              "<Figure size 432x288 with 1 Axes>"
            ]
          },
          "metadata": {
            "tags": [],
            "needs_background": "light"
          }
        }
      ]
    },
    {
      "cell_type": "code",
      "metadata": {
        "id": "WAqGSPreRCRI",
        "outputId": "79fafdfa-91ba-479e-cfca-f77c63f9f985"
      },
      "source": [
        "aa = ql_result.loc[:,['Max V','Mean V']]\n",
        "aa.plot()"
      ],
      "execution_count": null,
      "outputs": [
        {
          "output_type": "execute_result",
          "data": {
            "text/plain": [
              "<matplotlib.axes._subplots.AxesSubplot at 0x22c3bb92288>"
            ]
          },
          "metadata": {
            "tags": []
          },
          "execution_count": 210
        },
        {
          "output_type": "display_data",
          "data": {
            "image/png": "[encoded data removed]",
            "text/plain": [
              "<Figure size 432x288 with 1 Axes>"
            ]
          },
          "metadata": {
            "tags": [],
            "needs_background": "light"
          }
        }
      ]
    },
    {
      "cell_type": "code",
      "metadata": {
        "id": "CC9t2cxbRCRI"
      },
      "source": [
        ""
      ],
      "execution_count": null,
      "outputs": []
    },
    {
      "cell_type": "code",
      "metadata": {
        "id": "q38aP95XRCRI",
        "outputId": "d6e57631-e0f0-44f0-fcd9-07170127d66c"
      },
      "source": [
        "sum(ql_test.policy)"
      ],
      "execution_count": null,
      "outputs": [
        {
          "output_type": "execute_result",
          "data": {
            "text/plain": [
              "171"
            ]
          },
          "metadata": {
            "tags": []
          },
          "execution_count": 89
        }
      ]
    },
    {
      "cell_type": "code",
      "metadata": {
        "id": "bWJwMtOTRCRJ"
      },
      "source": [
        "plt.plot([i['Max V'] for i in result_test])"
      ],
      "execution_count": null,
      "outputs": []
    },
    {
      "cell_type": "code",
      "metadata": {
        "id": "8mCiSka6RCRJ",
        "outputId": "5c440d34-8e54-47f8-c46a-df6bcc495a49"
      },
      "source": [
        "sum(ql.policy)"
      ],
      "execution_count": null,
      "outputs": [
        {
          "output_type": "execute_result",
          "data": {
            "text/plain": [
              "333"
            ]
          },
          "metadata": {
            "tags": []
          },
          "execution_count": 51
        }
      ]
    },
    {
      "cell_type": "code",
      "metadata": {
        "id": "9GR5Z2lMRCRJ",
        "outputId": "f35e1642-f13a-4ebd-db8d-3c0f5b4fcfac"
      },
      "source": [
        "sum(vi.policy)"
      ],
      "execution_count": null,
      "outputs": [
        {
          "output_type": "execute_result",
          "data": {
            "text/plain": [
              "336"
            ]
          },
          "metadata": {
            "tags": []
          },
          "execution_count": 50
        }
      ]
    },
    {
      "cell_type": "code",
      "metadata": {
        "id": "bcXJllIWRCRJ"
      },
      "source": [
        ""
      ],
      "execution_count": null,
      "outputs": []
    },
    {
      "cell_type": "code",
      "metadata": {
        "id": "3KMuamx4RCRJ"
      },
      "source": [
        ""
      ],
      "execution_count": null,
      "outputs": []
    },
    {
      "cell_type": "code",
      "metadata": {
        "id": "g9_s3yVFRCRJ",
        "outputId": "d157ef82-32c3-4852-94bf-f88639222089"
      },
      "source": [
        "sum([ql.policy[i] == vi.policy[i] for i in range(400)])"
      ],
      "execution_count": null,
      "outputs": [
        {
          "output_type": "execute_result",
          "data": {
            "text/plain": [
              "293"
            ]
          },
          "metadata": {
            "tags": []
          },
          "execution_count": 49
        }
      ]
    },
    {
      "cell_type": "markdown",
      "metadata": {
        "id": "wsr-Khd3RCRK"
      },
      "source": [
        "## tuning ql hp"
      ]
    },
    {
      "cell_type": "code",
      "metadata": {
        "id": "luSTntx4RCRK"
      },
      "source": [
        "gamma = [0.9,0.99,0.999]\n",
        "epsilon = [1,0.5,0.1]\n",
        "alpha =  [1,0.1]\n"
      ],
      "execution_count": null,
      "outputs": []
    },
    {
      "cell_type": "code",
      "metadata": {
        "id": "MbFIMe1pRCRK"
      },
      "source": [
        ""
      ],
      "execution_count": null,
      "outputs": []
    },
    {
      "cell_type": "code",
      "metadata": {
        "id": "9al8leeSRCRK"
      },
      "source": [
        "import pandas as pd"
      ],
      "execution_count": null,
      "outputs": []
    },
    {
      "cell_type": "code",
      "metadata": {
        "id": "QZ15pAK-RCRK"
      },
      "source": [
        "qlp = pd.DataFrame(ql.policy)"
      ],
      "execution_count": null,
      "outputs": []
    },
    {
      "cell_type": "code",
      "metadata": {
        "id": "sl2uhqyKRCRK",
        "outputId": "91a93443-057f-4bad-ae58-06a82b7a208f"
      },
      "source": [
        "ql_result[0]"
      ],
      "execution_count": null,
      "outputs": [
        {
          "output_type": "execute_result",
          "data": {
            "text/plain": [
              "{'State': 265,\n",
              " 'Action': 0,\n",
              " 'Reward': 0.0,\n",
              " 'Error': 0.0,\n",
              " 'Time': 0.012967109680175781,\n",
              " 'Alpha': 0.9056978449586682,\n",
              " 'Epsilon': 0.36972963764972655,\n",
              " 'Gamma': 0.999999996,\n",
              " 'Max V': 16.44970280149264,\n",
              " 'Mean V': 0.15194856418021915,\n",
              " 'Iteration': 100}"
            ]
          },
          "metadata": {
            "tags": []
          },
          "execution_count": 24
        }
      ]
    },
    {
      "cell_type": "code",
      "metadata": {
        "id": "fBokp9q7RCRL"
      },
      "source": [
        "states = [i['State'] for i in ql_result]\n",
        "states = pd.DataFrame(states)"
      ],
      "execution_count": null,
      "outputs": []
    },
    {
      "cell_type": "code",
      "metadata": {
        "id": "Yl29wOGNRCRL",
        "outputId": "2b3c1ac6-f802-4bc2-ab3e-28dd972735fe"
      },
      "source": [
        "sum(ql.policy)"
      ],
      "execution_count": null,
      "outputs": [
        {
          "output_type": "execute_result",
          "data": {
            "text/plain": [
              "189"
            ]
          },
          "metadata": {
            "tags": []
          },
          "execution_count": 33
        }
      ]
    },
    {
      "cell_type": "code",
      "metadata": {
        "id": "JfSpZWeDRCRL",
        "outputId": "a8f77c72-93a7-4aae-c901-6940e3c4e63e"
      },
      "source": [
        "sum([vi.policy[i]==ql.policy[i] for i in range(400)])"
      ],
      "execution_count": null,
      "outputs": [
        {
          "output_type": "execute_result",
          "data": {
            "text/plain": [
              "221"
            ]
          },
          "metadata": {
            "tags": []
          },
          "execution_count": 8
        }
      ]
    },
    {
      "cell_type": "code",
      "metadata": {
        "id": "s5Hves4FRCRL",
        "outputId": "c02024de-4db2-4584-ecd1-a257354f9070"
      },
      "source": [
        "a"
      ],
      "execution_count": null,
      "outputs": [
        {
          "output_type": "execute_result",
          "data": {
            "text/plain": [
              "0.1"
            ]
          },
          "metadata": {
            "tags": []
          },
          "execution_count": 35
        }
      ]
    },
    {
      "cell_type": "code",
      "metadata": {
        "id": "Xzj9jSatRCRL",
        "outputId": "a26f52f2-d01a-40b2-bd0e-9bff53fe81fa"
      },
      "source": [
        "e"
      ],
      "execution_count": null,
      "outputs": [
        {
          "output_type": "execute_result",
          "data": {
            "text/plain": [
              "1"
            ]
          },
          "metadata": {
            "tags": []
          },
          "execution_count": 36
        }
      ]
    },
    {
      "cell_type": "code",
      "metadata": {
        "id": "ohhFtWrtRCRL",
        "outputId": "9d16a852-3f18-4cd8-e524-c9dd5f72bb50"
      },
      "source": [
        "states.value_counts()"
      ],
      "execution_count": null,
      "outputs": [
        {
          "output_type": "error",
          "ename": "AttributeError",
          "evalue": "'DataFrame' object has no attribute 'value_counts'",
          "traceback": [
            "\u001b[1;31m---------------------------------------------------------------------------\u001b[0m",
            "\u001b[1;31mAttributeError\u001b[0m                            Traceback (most recent call last)",
            "\u001b[1;32m<ipython-input-27-e6b9fb4897a9>\u001b[0m in \u001b[0;36m<module>\u001b[1;34m\u001b[0m\n\u001b[1;32m----> 1\u001b[1;33m \u001b[0mstates\u001b[0m\u001b[1;33m.\u001b[0m\u001b[0mvalue_counts\u001b[0m\u001b[1;33m(\u001b[0m\u001b[1;33m)\u001b[0m\u001b[1;33m\u001b[0m\u001b[1;33m\u001b[0m\u001b[0m\n\u001b[0m",
            "\u001b[1;32m~\\Anaconda3\\lib\\site-packages\\pandas\\core\\generic.py\u001b[0m in \u001b[0;36m__getattr__\u001b[1;34m(self, name)\u001b[0m\n\u001b[0;32m   5177\u001b[0m             \u001b[1;32mif\u001b[0m \u001b[0mself\u001b[0m\u001b[1;33m.\u001b[0m\u001b[0m_info_axis\u001b[0m\u001b[1;33m.\u001b[0m\u001b[0m_can_hold_identifiers_and_holds_name\u001b[0m\u001b[1;33m(\u001b[0m\u001b[0mname\u001b[0m\u001b[1;33m)\u001b[0m\u001b[1;33m:\u001b[0m\u001b[1;33m\u001b[0m\u001b[1;33m\u001b[0m\u001b[0m\n\u001b[0;32m   5178\u001b[0m                 \u001b[1;32mreturn\u001b[0m \u001b[0mself\u001b[0m\u001b[1;33m[\u001b[0m\u001b[0mname\u001b[0m\u001b[1;33m]\u001b[0m\u001b[1;33m\u001b[0m\u001b[1;33m\u001b[0m\u001b[0m\n\u001b[1;32m-> 5179\u001b[1;33m             \u001b[1;32mreturn\u001b[0m \u001b[0mobject\u001b[0m\u001b[1;33m.\u001b[0m\u001b[0m__getattribute__\u001b[0m\u001b[1;33m(\u001b[0m\u001b[0mself\u001b[0m\u001b[1;33m,\u001b[0m \u001b[0mname\u001b[0m\u001b[1;33m)\u001b[0m\u001b[1;33m\u001b[0m\u001b[1;33m\u001b[0m\u001b[0m\n\u001b[0m\u001b[0;32m   5180\u001b[0m \u001b[1;33m\u001b[0m\u001b[0m\n\u001b[0;32m   5181\u001b[0m     \u001b[1;32mdef\u001b[0m \u001b[0m__setattr__\u001b[0m\u001b[1;33m(\u001b[0m\u001b[0mself\u001b[0m\u001b[1;33m,\u001b[0m \u001b[0mname\u001b[0m\u001b[1;33m,\u001b[0m \u001b[0mvalue\u001b[0m\u001b[1;33m)\u001b[0m\u001b[1;33m:\u001b[0m\u001b[1;33m\u001b[0m\u001b[1;33m\u001b[0m\u001b[0m\n",
            "\u001b[1;31mAttributeError\u001b[0m: 'DataFrame' object has no attribute 'value_counts'"
          ]
        }
      ]
    },
    {
      "cell_type": "code",
      "metadata": {
        "id": "xuJCe_r2RCRM",
        "outputId": "7de322e5-7619-4851-d4eb-45ed5b5d67ba"
      },
      "source": [
        "set(range(400))-set([i['State'] for i in ql_result])"
      ],
      "execution_count": null,
      "outputs": [
        {
          "output_type": "execute_result",
          "data": {
            "text/plain": [
              "set()"
            ]
          },
          "metadata": {
            "tags": []
          },
          "execution_count": 15
        }
      ]
    },
    {
      "cell_type": "code",
      "metadata": {
        "id": "hn3X1kxPRCRM",
        "outputId": "d209cb3f-9e4c-4a73-a312-7246a7bd768f"
      },
      "source": [
        "ql.policy[-10:]"
      ],
      "execution_count": null,
      "outputs": [
        {
          "output_type": "execute_result",
          "data": {
            "text/plain": [
              "(1, 1, 1, 0, 0, 0, 1, 0, 0, 0)"
            ]
          },
          "metadata": {
            "tags": []
          },
          "execution_count": 13
        }
      ]
    },
    {
      "cell_type": "code",
      "metadata": {
        "id": "NclVOqpvRCRM",
        "outputId": "8ce4ffee-4c04-4ba9-8297-a0fb96b74d95"
      },
      "source": [
        "ql.V"
      ],
      "execution_count": null,
      "outputs": [
        {
          "output_type": "execute_result",
          "data": {
            "text/plain": [
              "(2412.1380188947896,\n",
              " 2412.6273544081682,\n",
              " 2401.6712819404247,\n",
              " 2162.998136651427,\n",
              " 660.2511512157654,\n",
              " 363.41572930368153,\n",
              " 287.1864854726072,\n",
              " 241.94924310796245,\n",
              " 76.45290831624213,\n",
              " 490.44970192773786,\n",
              " 376.0751991161974,\n",
              " 112.24959820172758,\n",
              " 550.2493470246321,\n",
              " 30.664924326516317,\n",
              " 120.43336697694441,\n",
              " 638.5338094993363,\n",
              " 44.06305774288941,\n",
              " 441.63310353911584,\n",
              " 231.8825282746934,\n",
              " 117.90391648046847,\n",
              " 566.6577704721868,\n",
              " 313.02974482993943,\n",
              " 272.57262816811857,\n",
              " 190.35576310425452,\n",
              " 77.60243797397874,\n",
              " 512.2072055563895,\n",
              " 218.8050054429521,\n",
              " 385.553873100441,\n",
              " 17.533779900775055,\n",
              " 63.62918211498073,\n",
              " 95.5167025279605,\n",
              " 283.79489744403617,\n",
              " 990.9227776947325,\n",
              " 346.5120993241955,\n",
              " 266.600266777992,\n",
              " 74.52704862453501,\n",
              " 506.9750468214893,\n",
              " 81.85534956498962,\n",
              " 210.74873058974737,\n",
              " 685.9873096005211,\n",
              " 318.72173401088133,\n",
              " 241.96246079720277,\n",
              " 332.2651204554433,\n",
              " 284.6616212241552,\n",
              " 276.9219421121706,\n",
              " 108.94420813429419,\n",
              " 675.3994882942735,\n",
              " 265.3890308619982,\n",
              " 291.3780192097307,\n",
              " 331.28492373951053,\n",
              " 275.42760128882014,\n",
              " 275.0083697227913,\n",
              " 302.7709730448442,\n",
              " 67.86790797783792,\n",
              " 99.32573035561566,\n",
              " 142.1726317396464,\n",
              " 156.983728170232,\n",
              " 336.55818938743954,\n",
              " 1040.3370696654647,\n",
              " 316.01525099751825,\n",
              " 210.71943570749158,\n",
              " 136.25532478941733,\n",
              " 536.070143869444,\n",
              " 325.3653765671163,\n",
              " 103.593603621638,\n",
              " 716.4978909400435,\n",
              " 61.791479750730126,\n",
              " 606.861215424759,\n",
              " 88.3513043327572,\n",
              " 383.97019423210565,\n",
              " 130.91253135606607,\n",
              " 564.0209683342558,\n",
              " 41.9512200551933,\n",
              " 437.38650970639117,\n",
              " 56.85753232964176,\n",
              " 76.42125440755495,\n",
              " 151.15664304699092,\n",
              " 260.40605466374205,\n",
              " 863.5829758284901,\n",
              " 226.8974278164911,\n",
              " 39.734687692799675,\n",
              " 155.3909812494307,\n",
              " 697.892958984762,\n",
              " 62.10714114313859,\n",
              " 527.6755514037545,\n",
              " 295.3602020580768,\n",
              " 73.1512997684523,\n",
              " 601.5379187194471,\n",
              " 268.03924445656963,\n",
              " 420.37876755942995,\n",
              " 399.24916029374185,\n",
              " 71.94115355794818,\n",
              " 457.89715042164414,\n",
              " 266.561628062242,\n",
              " 127.23813189530034,\n",
              " 579.486849718893,\n",
              " 29.21177254480159,\n",
              " 373.1775865539134,\n",
              " 269.52030076309103,\n",
              " 87.58190656009157,\n",
              " 632.92805823718,\n",
              " 236.90555609282018,\n",
              " 269.1551750169881,\n",
              " 62.93206683723483,\n",
              " 220.97833409360302,\n",
              " 685.9781379507384,\n",
              " 51.8344299070512,\n",
              " 503.9891059067848,\n",
              " 368.96328760812037,\n",
              " 43.37165279120322,\n",
              " 366.26230395001437,\n",
              " 72.1022521525941,\n",
              " 433.11908304717076,\n",
              " 61.91488680004379,\n",
              " 534.187020431762,\n",
              " 273.431412463203,\n",
              " 300.02828568938264,\n",
              " 355.57661056274367,\n",
              " 347.73578023290685,\n",
              " 53.436667673699006,\n",
              " 409.12537006232054,\n",
              " 253.72889069676626,\n",
              " 29.66447881326964,\n",
              " 87.59291572861743,\n",
              " 364.0272405127607,\n",
              " 86.55202175101412,\n",
              " 165.82334375904333,\n",
              " 203.54351141720298,\n",
              " 788.2771164933991,\n",
              " 190.6161332336189,\n",
              " 307.205411233648,\n",
              " 264.3982651170338,\n",
              " 102.93040717835657,\n",
              " 469.39473046513024,\n",
              " 224.39261502211068,\n",
              " 2.6354699605685767,\n",
              " 68.84668186443933,\n",
              " 181.06782335994723,\n",
              " 700.6648389786657,\n",
              " 90.88208258537769,\n",
              " 699.4729168038409,\n",
              " 115.92209431024321,\n",
              " 434.3617028452533,\n",
              " 336.6882687823846,\n",
              " 31.866288722995076,\n",
              " 427.7439984015768,\n",
              " 92.7793656113802,\n",
              " 584.2038841279755,\n",
              " 57.115238757692964,\n",
              " 82.09249436194767,\n",
              " 260.60060730466995,\n",
              " 902.4503990160263,\n",
              " 324.78946795132845,\n",
              " 61.377997738984675,\n",
              " 461.5444489506121,\n",
              " 32.974560940907644,\n",
              " 154.21937663017155,\n",
              " 722.570688633781,\n",
              " 90.20705268831185,\n",
              " 573.9394463974804,\n",
              " 59.01234749574952,\n",
              " 85.30155649707496,\n",
              " 122.31275494024673,\n",
              " 257.1820116994359,\n",
              " 906.1265740813144,\n",
              " 86.87429373612729,\n",
              " 629.3378136068752,\n",
              " 429.9765406814694,\n",
              " 335.8607786399456,\n",
              " 235.1734576261601,\n",
              " 63.0562188492444,\n",
              " 522.7061388634002,\n",
              " 65.9457253145885,\n",
              " 476.4245465023188,\n",
              " 59.137751179622484,\n",
              " 487.8094897209666,\n",
              " 283.78393702039995,\n",
              " 299.31668993535425,\n",
              " 49.352464169776724,\n",
              " 215.40298688755894,\n",
              " 817.8639774925838,\n",
              " 459.79411723851854,\n",
              " 221.83387571277925,\n",
              " 199.41734392971634,\n",
              " 390.25424294696865,\n",
              " 57.70643115491261,\n",
              " 505.4077230770332,\n",
              " 274.4145694534791,\n",
              " 29.629005851206855,\n",
              " 105.54009270070571,\n",
              " 521.8131042403733,\n",
              " 138.99941714293033,\n",
              " 460.3712783972626,\n",
              " 167.0971227375619,\n",
              " 324.7287292353641,\n",
              " 186.81354657641583,\n",
              " 94.4558059534422,\n",
              " 47.64192249770943,\n",
              " 150.014938559385,\n",
              " 307.9539539083727,\n",
              " 851.3623865825153,\n",
              " 406.4887954349709,\n",
              " 289.2941669865295,\n",
              " 26.102244473993135,\n",
              " 150.4099190205648,\n",
              " 669.0199322073373,\n",
              " 49.136355761396715,\n",
              " 171.33329647523828,\n",
              " 792.1060986628544,\n",
              " 76.9083235267121,\n",
              " 460.1283549955745,\n",
              " 268.4950732742683,\n",
              " 360.1725689457057,\n",
              " 156.73890446328843,\n",
              " 72.44108879951312,\n",
              " 253.05144979198855,\n",
              " 844.201500024162,\n",
              " 65.76940428934624,\n",
              " 87.7083190688524,\n",
              " 79.53439110490257,\n",
              " 224.2352856907855,\n",
              " 879.4988515380771,\n",
              " 117.01801905477203,\n",
              " 566.086008984578,\n",
              " 2.9298510569173906,\n",
              " 58.38145713496449,\n",
              " 244.8565693356988,\n",
              " 899.1177598433485,\n",
              " 353.7031582739182,\n",
              " 109.79408557095275,\n",
              " 586.9142120054739,\n",
              " 102.42544079252639,\n",
              " 404.60784726078725,\n",
              " 51.09365158245787,\n",
              " 99.75768900335525,\n",
              " 157.55412546233796,\n",
              " 366.21860167377406,\n",
              " 961.5993055605549,\n",
              " 275.7586100362534,\n",
              " 295.9296186910541,\n",
              " 284.30018546693697,\n",
              " 447.6431364900547,\n",
              " 26.499060674812426,\n",
              " 81.49696295053724,\n",
              " 522.163126303741,\n",
              " 480.50967653658245,\n",
              " 45.214457091396255,\n",
              " 170.2951042935448,\n",
              " 662.1517282824822,\n",
              " 15.895833351838617,\n",
              " 177.93372277805057,\n",
              " 627.7213806807928,\n",
              " 303.43711820820147,\n",
              " 41.17237333423353,\n",
              " 116.06786549827746,\n",
              " 177.85045092650796,\n",
              " 728.8879747542024,\n",
              " 87.64151556242942,\n",
              " 542.7867406767158,\n",
              " 353.65853223531116,\n",
              " 268.316620138375,\n",
              " 347.17222601591857,\n",
              " 123.69180246195404,\n",
              " 696.5643221338706,\n",
              " 365.5876823095801,\n",
              " 353.9737345827565,\n",
              " 157.35167063221846,\n",
              " 690.638914100346,\n",
              " 213.13640922202552,\n",
              " 319.6840761313193,\n",
              " 69.25154102962678,\n",
              " 52.948039276299,\n",
              " 169.09227945762237,\n",
              " 769.0517305604948,\n",
              " 61.052298613283305,\n",
              " 496.3668779285416,\n",
              " 44.34471687205233,\n",
              " 128.07827518564687,\n",
              " 708.2589374503569,\n",
              " 304.5881216622453,\n",
              " 254.5996407859441,\n",
              " 48.71693170345469,\n",
              " 417.7963573656858,\n",
              " 14.58186748564424,\n",
              " 117.89010170784209,\n",
              " 780.3933799055411,\n",
              " 105.59041255612796,\n",
              " 660.8115973970503,\n",
              " 63.400293773726126,\n",
              " 142.85414430398092,\n",
              " 600.2155712640584,\n",
              " 101.55071215371912,\n",
              " 569.7947082775105,\n",
              " 126.66594044091701,\n",
              " 576.9263093805225,\n",
              " 54.2891101485016,\n",
              " 455.67922368535665,\n",
              " 84.50143072626963,\n",
              " 533.4236132495092,\n",
              " 354.9678768520923,\n",
              " 199.0965843297251,\n",
              " 370.1028962014242,\n",
              " 282.99743783932,\n",
              " 301.4350585481348,\n",
              " 46.633193555710896,\n",
              " 478.0662924902225,\n",
              " 19.433048783971792,\n",
              " 266.11974300403415,\n",
              " 103.3279895907245,\n",
              " 139.30370161629182,\n",
              " 274.6902012101204,\n",
              " 874.3639105945227,\n",
              " 63.257344715932035,\n",
              " 529.3735666220441,\n",
              " 198.61118540542745,\n",
              " 311.4627378332341,\n",
              " 186.6571896068095,\n",
              " 222.4271726072931,\n",
              " 404.0941796665629,\n",
              " 62.5854089762194,\n",
              " 431.19074028605553,\n",
              " 83.00086067457619,\n",
              " 508.5193961478502,\n",
              " 344.8931022707598,\n",
              " 24.341575360735668,\n",
              " 74.33257803459095,\n",
              " 210.78852371201225,\n",
              " 823.4656288040071,\n",
              " 64.40333626263045,\n",
              " 541.6186851245458,\n",
              " 55.38604404848658,\n",
              " 599.7467167543805,\n",
              " 60.770549726029316,\n",
              " 57.203708345471284,\n",
              " 238.28574600344248,\n",
              " 784.8258435755023,\n",
              " 46.021820303670964,\n",
              " 151.26511331349838,\n",
              " 719.1180876264887,\n",
              " 58.28734926575314,\n",
              " 503.08166372717716,\n",
              " 318.0679258184414,\n",
              " 353.9366419324494,\n",
              " 378.07413412190147,\n",
              " 211.88263716602688,\n",
              " 36.758430935294726,\n",
              " 192.02878008177865,\n",
              " 770.1834990273567,\n",
              " 55.04476971429088,\n",
              " 443.56862741873607,\n",
              " 328.76327068921586,\n",
              " 78.2384244819159,\n",
              " 591.6310387990695,\n",
              " 320.4630847087513,\n",
              " 204.0343944161191,\n",
              " 113.87159361119664,\n",
              " 447.4394917878705,\n",
              " 349.9759016550893,\n",
              " 65.32573646956892,\n",
              " 425.7541476979074,\n",
              " 41.346483098875005,\n",
              " 487.9301154435259,\n",
              " 66.50488132467065,\n",
              " 486.29752305935733,\n",
              " 230.53827927729662,\n",
              " 84.90293390669764,\n",
              " 535.765457501656,\n",
              " 229.12137763040175,\n",
              " 164.33448377117008,\n",
              " 378.9657881203839,\n",
              " 83.59170846339713,\n",
              " 599.2730879813226,\n",
              " 115.37133717951643,\n",
              " 488.62600891977,\n",
              " 67.40308472933532,\n",
              " 309.52815912310325,\n",
              " 213.71573248465702,\n",
              " 381.4923844301343,\n",
              " 125.77200271370583,\n",
              " 570.0048979501494,\n",
              " 397.619207186683,\n",
              " 278.7841162706978,\n",
              " 70.10686084552114,\n",
              " 47.43528311462489,\n",
              " 191.23870511398692,\n",
              " 800.519961631234,\n",
              " 74.04840658915789,\n",
              " 95.49843068011087,\n",
              " 119.59049357007218,\n",
              " 300.48832538975813,\n",
              " 889.171578665183,\n",
              " 351.0071292282122,\n",
              " 322.8386914275451,\n",
              " 89.63261353945873,\n",
              " 46.76629379484368,\n",
              " 128.11911727090256,\n",
              " 226.72512851773536,\n",
              " 824.5210041521129,\n",
              " 102.6457267265247,\n",
              " 698.4683989441265)"
            ]
          },
          "metadata": {
            "tags": []
          },
          "execution_count": 16
        }
      ]
    },
    {
      "cell_type": "code",
      "metadata": {
        "id": "JOwEGL1ZRCRM"
      },
      "source": [
        ""
      ],
      "execution_count": null,
      "outputs": []
    },
    {
      "cell_type": "code",
      "metadata": {
        "id": "ymzqL6oWRCRM"
      },
      "source": [
        ""
      ],
      "execution_count": null,
      "outputs": []
    },
    {
      "cell_type": "code",
      "metadata": {
        "id": "o5xPp-7cRCRM",
        "outputId": "f16d2bcb-9dce-4486-e194-d15e16753e05"
      },
      "source": [
        "example.forest(S=3, r1=4, r2=2, p=0.1, is_sparse=False)"
      ],
      "execution_count": null,
      "outputs": [
        {
          "output_type": "execute_result",
          "data": {
            "text/plain": [
              "(array([[[0.1, 0.9, 0. ],\n",
              "         [0.1, 0. , 0.9],\n",
              "         [0.1, 0. , 0.9]],\n",
              " \n",
              "        [[1. , 0. , 0. ],\n",
              "         [1. , 0. , 0. ],\n",
              "         [1. , 0. , 0. ]]]), array([[0., 0.],\n",
              "        [0., 1.],\n",
              "        [4., 2.]]))"
            ]
          },
          "metadata": {
            "tags": []
          },
          "execution_count": 43
        }
      ]
    },
    {
      "cell_type": "code",
      "metadata": {
        "id": "wpkbSNG1RCRN"
      },
      "source": [
        ""
      ],
      "execution_count": null,
      "outputs": []
    },
    {
      "cell_type": "code",
      "metadata": {
        "id": "WQXTCOLARCRN"
      },
      "source": [
        "P = np.array([[[0.5, 0.5],[0.8, 0.2]],[[0, 1],[0.1, 0.9]]])\n",
        "R = np.array([[5, 10], [-1, 2]])"
      ],
      "execution_count": null,
      "outputs": []
    },
    {
      "cell_type": "code",
      "metadata": {
        "id": "L78gKUFkRCRN"
      },
      "source": [
        "P, R = example.forest(S=400, r1=400, r2=200, p=0.1, is_sparse=False)"
      ],
      "execution_count": null,
      "outputs": []
    },
    {
      "cell_type": "code",
      "metadata": {
        "id": "5YxuzunzRCRN"
      },
      "source": [
        "P, R = example.rand(10, 3)"
      ],
      "execution_count": null,
      "outputs": []
    },
    {
      "cell_type": "code",
      "metadata": {
        "scrolled": true,
        "id": "_Y4t19wxRCRN",
        "outputId": "cdd242b0-a558-4048-9d41-1841b7a81734"
      },
      "source": [
        "#P, R = example.forest(S=500, r1=200, r2=20, p=0.1, is_sparse=False)\n",
        "gamma = 0.1\n",
        "vi = mdp.ValueIteration(P, R, gamma, epsilon=0.001,max_iter = 100000)\n",
        "vi.setVerbose()\n",
        "result,error,reward = vi_plot(vi)\n",
        "sum(vi.policy)"
      ],
      "execution_count": null,
      "outputs": [
        {
          "output_type": "stream",
          "text": [
            " Iteration   Variation\n",
            "         1  400.000000\n",
            "         2   36.000000\n",
            "         3    3.240000\n",
            "         4    0.291600\n",
            "         5    0.026244\n",
            "Iterating stopped due to maximum number of iterations condition.\n"
          ],
          "name": "stdout"
        },
        {
          "output_type": "execute_result",
          "data": {
            "text/plain": [
              "396"
            ]
          },
          "metadata": {
            "tags": []
          },
          "execution_count": 35
        },
        {
          "output_type": "display_data",
          "data": {
            "image/png": "[encoded data removed]",
            "text/plain": [
              "<Figure size 432x288 with 2 Axes>"
            ]
          },
          "metadata": {
            "tags": [],
            "needs_background": "light"
          }
        }
      ]
    },
    {
      "cell_type": "code",
      "metadata": {
        "id": "9lSO9SfKRCRO",
        "outputId": "84712039-4aaa-4b21-d039-af2bba766bcc"
      },
      "source": [
        "len(vi.policy)"
      ],
      "execution_count": null,
      "outputs": [
        {
          "output_type": "execute_result",
          "data": {
            "text/plain": [
              "400"
            ]
          },
          "metadata": {
            "tags": []
          },
          "execution_count": 20
        }
      ]
    },
    {
      "cell_type": "code",
      "metadata": {
        "id": "sDfajqMyRCRO",
        "outputId": "cff4970c-7f0b-45b8-e1c9-24662b8bd426"
      },
      "source": [
        "sum(vi.policy)"
      ],
      "execution_count": null,
      "outputs": [
        {
          "output_type": "execute_result",
          "data": {
            "text/plain": [
              "336"
            ]
          },
          "metadata": {
            "tags": []
          },
          "execution_count": 23
        }
      ]
    },
    {
      "cell_type": "code",
      "metadata": {
        "id": "UzHebH8mRCRO"
      },
      "source": [
        ""
      ],
      "execution_count": null,
      "outputs": []
    },
    {
      "cell_type": "code",
      "metadata": {
        "id": "2O7O_PUuRCRO",
        "outputId": "b5edbd6f-37c7-4e92-d590-3a7214720b3a"
      },
      "source": [
        "sum(vi.policy[-63:])"
      ],
      "execution_count": null,
      "outputs": [
        {
          "output_type": "execute_result",
          "data": {
            "text/plain": [
              "31"
            ]
          },
          "metadata": {
            "tags": []
          },
          "execution_count": 30
        }
      ]
    },
    {
      "cell_type": "code",
      "metadata": {
        "scrolled": true,
        "id": "tZozE_wDRCRO",
        "outputId": "ac7d0454-65ed-4965-9f27-f70b0b7869e3"
      },
      "source": [
        "[i['Max V'] for i in result]"
      ],
      "execution_count": null,
      "outputs": [
        {
          "output_type": "execute_result",
          "data": {
            "text/plain": [
              "[200.0,\n",
              " 372.79999999999995,\n",
              " 522.182144,\n",
              " 651.25627904,\n",
              " 762.8458931978239,\n",
              " 859.2726022514278,\n",
              " 942.6442510628593,\n",
              " 1014.6940339375682,\n",
              " 1076.995561350815,\n",
              " 1130.8427641272779,\n",
              " 1177.4104400723963,\n",
              " 1217.6646030959641,\n",
              " 1252.4823307964512,\n",
              " 1282.5848405999259,\n",
              " 1308.6269556555405,\n",
              " 1331.1471465879827,\n",
              " 1350.6343175717589,\n",
              " 1367.4905128347543,\n",
              " 1382.0807723256428,\n",
              " 1394.705292392864,\n",
              " 1405.6366429608233,\n",
              " 1415.098985703211,\n",
              " 1423.2958566266661,\n",
              " 1430.3946526263683,\n",
              " 1436.5473711754491,\n",
              " 1441.8790296985599,\n",
              " 1446.5031477609114,\n",
              " 1450.5131022670625,\n",
              " 1453.9936849396074,\n",
              " 1457.014649092684,\n",
              " 1459.6393373232986,\n",
              " 1461.9198642800889,\n",
              " 1463.90355727385,\n",
              " 1465.629360304212,\n",
              " 1467.132642017339,\n",
              " 1468.4425113912266,\n",
              " 1469.5854069192865,\n",
              " 1470.5830928400594,\n",
              " 1471.4553385059119,\n",
              " 1472.2184226317336,\n",
              " 1472.8871334859496,\n",
              " 1473.4736523690333,\n",
              " 1473.989046796937,\n",
              " 1474.442437069155,\n",
              " 1474.8421109691963,\n",
              " 1475.1949016541873,\n",
              " 1475.5070198157998,\n",
              " 1475.7835893171532,\n",
              " 1476.029268435848,\n",
              " 1476.247903255473,\n",
              " 1476.442991456279,\n",
              " 1476.6174236071502,\n",
              " 1476.773829415957,\n",
              " 1476.9143846362213,\n",
              " 1477.0410695715452,\n",
              " 1477.1555249609376,\n",
              " 1477.2592449789156,\n",
              " 1477.353469680954,\n",
              " 1477.439329102706,\n",
              " 1477.5177629953619,\n",
              " 1477.5896284185656,\n",
              " 1477.6556398456692,\n",
              " 1477.716449503002,\n",
              " 1477.7726026794066,\n",
              " 1477.8245977190797,\n",
              " 1477.8728526794177,\n",
              " 1477.9177501337676,\n",
              " 1477.9596122992455,\n",
              " 1477.998734498709,\n",
              " 1478.0353666099954,\n",
              " 1478.0697380607237,\n",
              " 1478.1020439951756,\n",
              " 1478.1324639471673,\n",
              " 1478.1611515274603,\n",
              " 1478.1882483762126,\n",
              " 1478.2138764773708,\n",
              " 1478.2381485863082,\n",
              " 1478.2611625042518,\n",
              " 1478.283008873709,\n",
              " 1478.3037669151333,\n",
              " 1478.3235102565334,\n",
              " 1478.3423037608509,\n",
              " 1478.3602078872816,\n",
              " 1478.3772763320876,\n",
              " 1478.3935592930986,\n",
              " 1478.4091017170294,\n",
              " 1478.423945744523,\n",
              " 1478.4381294095595,\n",
              " 1478.451688472139,\n",
              " 1478.4646554545684]"
            ]
          },
          "metadata": {
            "tags": []
          },
          "execution_count": 51
        }
      ]
    },
    {
      "cell_type": "code",
      "metadata": {
        "id": "nqD2KdLqRCRO"
      },
      "source": [
        "errors = [i['Error'] for i in result]"
      ],
      "execution_count": null,
      "outputs": []
    },
    {
      "cell_type": "code",
      "metadata": {
        "id": "XHQiCJq9RCRP",
        "outputId": "e3503e76-ccf7-462a-ee37-c2d4c48f7dd2"
      },
      "source": [
        "plt.plot(errors)"
      ],
      "execution_count": null,
      "outputs": [
        {
          "output_type": "execute_result",
          "data": {
            "text/plain": [
              "[<matplotlib.lines.Line2D at 0x19cf703a1d0>]"
            ]
          },
          "metadata": {
            "tags": []
          },
          "execution_count": 18
        },
        {
          "output_type": "display_data",
          "data": {
            "image/png": "[encoded data removed]",
            "text/plain": [
              "<Figure size 432x288 with 1 Axes>"
            ]
          },
          "metadata": {
            "tags": [],
            "needs_background": "light"
          }
        }
      ]
    },
    {
      "cell_type": "code",
      "metadata": {
        "id": "gnG-MWE3RCRP",
        "outputId": "1fcedae0-59c8-478b-9ed1-832c93587bfe"
      },
      "source": [
        "vi.V"
      ],
      "execution_count": null,
      "outputs": [
        {
          "output_type": "execute_result",
          "data": {
            "text/plain": [
              "(3.34216629799929,\n",
              " 3.1244979594224764,\n",
              " 3.0611419359850696,\n",
              " 2.6429935755433616,\n",
              " 2.7673979690391595,\n",
              " 3.297219048138617,\n",
              " 2.6640647141112677,\n",
              " 3.054910745851874,\n",
              " 2.660934948723211,\n",
              " 2.931907896421391)"
            ]
          },
          "metadata": {
            "tags": []
          },
          "execution_count": 19
        }
      ]
    },
    {
      "cell_type": "code",
      "metadata": {
        "id": "Ttib71xyRCRP",
        "outputId": "3a3678a1-9c82-4c65-facb-c23cfb6f1385"
      },
      "source": [
        "vi.policy"
      ],
      "execution_count": null,
      "outputs": [
        {
          "output_type": "execute_result",
          "data": {
            "text/plain": [
              "(0, 0, 2, 1, 1, 2, 1, 1, 1, 2)"
            ]
          },
          "metadata": {
            "tags": []
          },
          "execution_count": 34
        }
      ]
    },
    {
      "cell_type": "code",
      "metadata": {
        "id": "zjkiqfFFRCRP",
        "outputId": "2bc37182-d9c4-4ddc-8417-f935611497a0"
      },
      "source": [
        "vi.iter"
      ],
      "execution_count": null,
      "outputs": [
        {
          "output_type": "execute_result",
          "data": {
            "text/plain": [
              "16"
            ]
          },
          "metadata": {
            "tags": []
          },
          "execution_count": 40
        }
      ]
    },
    {
      "cell_type": "code",
      "metadata": {
        "id": "HlvoptXjRCRP",
        "outputId": "8120c2cb-4001-4d95-dfa3-0deb7098191b"
      },
      "source": [
        "sum([vi.policy[i] == pi.policy[i] for i in range(len(vi.policy))])"
      ],
      "execution_count": null,
      "outputs": [
        {
          "output_type": "execute_result",
          "data": {
            "text/plain": [
              "487"
            ]
          },
          "metadata": {
            "tags": []
          },
          "execution_count": 59
        }
      ]
    },
    {
      "cell_type": "code",
      "metadata": {
        "id": "TFqugpWwRCRQ",
        "outputId": "dbf258f2-7b5c-4c02-b14a-a2ca8442c82c"
      },
      "source": [
        "vi.policy[480:]==pi.policy[480:]"
      ],
      "execution_count": null,
      "outputs": [
        {
          "output_type": "execute_result",
          "data": {
            "text/plain": [
              "True"
            ]
          },
          "metadata": {
            "tags": []
          },
          "execution_count": 66
        }
      ]
    },
    {
      "cell_type": "code",
      "metadata": {
        "id": "Zc0Lw8E_RCRQ",
        "outputId": "b3918adc-0ef1-4b0d-97f3-55da37977df6"
      },
      "source": [
        "n_iter = 100000\n",
        "ql = mdp.QLearning(P, R, 0.999999996 , n_iter=n_iter,epsilon_decay=0.999,epsilon_min=0.001,alpha_decay=0.999,alpha = 1\n",
        "                   ,run_stat_frequency=None)\n",
        "ql.setVerbose()\n",
        "ql_result,ql_error,ql_reward = vi_plot(ql)"
      ],
      "execution_count": null,
      "outputs": [
        {
          "output_type": "display_data",
          "data": {
            "image/png": "[encoded data removed]",
            "text/plain": [
              "<Figure size 432x288 with 2 Axes>"
            ]
          },
          "metadata": {
            "tags": [],
            "needs_background": "light"
          }
        }
      ]
    },
    {
      "cell_type": "code",
      "metadata": {
        "id": "das71ItoRCRQ",
        "outputId": "ed908d32-4fe8-4267-8c54-cc5d21a8f7be"
      },
      "source": [
        "sum(ql.policy)"
      ],
      "execution_count": null,
      "outputs": [
        {
          "output_type": "execute_result",
          "data": {
            "text/plain": [
              "23"
            ]
          },
          "metadata": {
            "tags": []
          },
          "execution_count": 12
        }
      ]
    },
    {
      "cell_type": "code",
      "metadata": {
        "id": "BhGuw2n6RCRQ",
        "outputId": "cad815f0-e423-403e-fad9-caa289681082"
      },
      "source": [
        "ql.gamma**300"
      ],
      "execution_count": null,
      "outputs": [
        {
          "output_type": "execute_result",
          "data": {
            "text/plain": [
              "4.801422373777491e-06"
            ]
          },
          "metadata": {
            "tags": []
          },
          "execution_count": 74
        }
      ]
    },
    {
      "cell_type": "code",
      "metadata": {
        "id": "h8siLcx0RCRQ",
        "outputId": "8c498c88-8931-4806-dee9-a20179412854"
      },
      "source": [
        "sum(ql.policy)"
      ],
      "execution_count": null,
      "outputs": [
        {
          "output_type": "execute_result",
          "data": {
            "text/plain": [
              "25"
            ]
          },
          "metadata": {
            "tags": []
          },
          "execution_count": 78
        }
      ]
    },
    {
      "cell_type": "code",
      "metadata": {
        "id": "7a58swb-RCRR",
        "outputId": "67e63e80-6a61-4a2d-b5ec-2786785d8d56"
      },
      "source": [
        "sum(vi.policy)"
      ],
      "execution_count": null,
      "outputs": [
        {
          "output_type": "execute_result",
          "data": {
            "text/plain": [
              "458"
            ]
          },
          "metadata": {
            "tags": []
          },
          "execution_count": 79
        }
      ]
    },
    {
      "cell_type": "code",
      "metadata": {
        "id": "KCahT0dTRCRR"
      },
      "source": [
        "ql.Q"
      ],
      "execution_count": null,
      "outputs": []
    },
    {
      "cell_type": "code",
      "metadata": {
        "id": "6yDUjkUCRCRR",
        "outputId": "4dc4c769-a5d8-48ca-a252-dbabf2b21177"
      },
      "source": [
        "n_iter = 10000\n",
        "ql = mdp.QLearning(P, R, 0.96 , n_iter=n_iter,epsilon_decay=0.999,epsilon_min=0.001,alpha_decay=0.999)\n",
        "ql.setVerbose()\n",
        "ql_result,ql_error,ql_reward = vi_plot(ql)"
      ],
      "execution_count": null,
      "outputs": [
        {
          "output_type": "display_data",
          "data": {
            "image/png": "[encoded data removed]",
            "text/plain": [
              "<Figure size 432x288 with 2 Axes>"
            ]
          },
          "metadata": {
            "tags": [],
            "needs_background": "light"
          }
        }
      ]
    },
    {
      "cell_type": "code",
      "metadata": {
        "id": "Akrn6FrjRCRR",
        "outputId": "9ee5466c-3f36-495b-913b-882d13e37ef4"
      },
      "source": [
        "max(ql.Q[0][:])"
      ],
      "execution_count": null,
      "outputs": [
        {
          "output_type": "execute_result",
          "data": {
            "text/plain": [
              "8.789817359825925"
            ]
          },
          "metadata": {
            "tags": []
          },
          "execution_count": 21
        }
      ]
    },
    {
      "cell_type": "code",
      "metadata": {
        "id": "Zr1pcOAHRCRR",
        "outputId": "71ccb49f-af04-4420-feea-526e7f8f1287"
      },
      "source": [
        "max(ql.Q[1][:])"
      ],
      "execution_count": null,
      "outputs": [
        {
          "output_type": "execute_result",
          "data": {
            "text/plain": [
              "9.318637409519805"
            ]
          },
          "metadata": {
            "tags": []
          },
          "execution_count": 22
        }
      ]
    },
    {
      "cell_type": "code",
      "metadata": {
        "id": "ORNzEe7DRCRS"
      },
      "source": [
        "p20000 = ql.policy"
      ],
      "execution_count": null,
      "outputs": []
    },
    {
      "cell_type": "code",
      "metadata": {
        "id": "UXTL_D7nRCRS"
      },
      "source": [
        "p10000 = ql.policy"
      ],
      "execution_count": null,
      "outputs": []
    },
    {
      "cell_type": "code",
      "metadata": {
        "id": "cedh7SPZRCRS",
        "outputId": "acd230e9-bcbb-4d86-ed49-1015072abdc6"
      },
      "source": [
        "p10000[:10]"
      ],
      "execution_count": null,
      "outputs": [
        {
          "output_type": "execute_result",
          "data": {
            "text/plain": [
              "(0, 1, 1, 1, 1, 1, 0, 0, 0, 0)"
            ]
          },
          "metadata": {
            "tags": []
          },
          "execution_count": 112
        }
      ]
    },
    {
      "cell_type": "code",
      "metadata": {
        "id": "EUyASVEeRCRS"
      },
      "source": [
        "import numpy as np"
      ],
      "execution_count": null,
      "outputs": []
    },
    {
      "cell_type": "code",
      "metadata": {
        "scrolled": true,
        "id": "YLi1Qb4URCRS",
        "outputId": "559e79f4-a618-4645-8b28-16d5a4227843"
      },
      "source": [
        "np.where(ql_reward==1.0)"
      ],
      "execution_count": null,
      "outputs": [
        {
          "output_type": "execute_result",
          "data": {
            "text/plain": [
              "(array([], dtype=int64),)"
            ]
          },
          "metadata": {
            "tags": []
          },
          "execution_count": 81
        }
      ]
    },
    {
      "cell_type": "code",
      "metadata": {
        "id": "_648vHriRCRS",
        "outputId": "2d1b3de7-d913-4bf6-db54-9f6bb9729c11"
      },
      "source": [
        "ql_reward[3]==1"
      ],
      "execution_count": null,
      "outputs": [
        {
          "output_type": "execute_result",
          "data": {
            "text/plain": [
              "True"
            ]
          },
          "metadata": {
            "tags": []
          },
          "execution_count": 86
        }
      ]
    },
    {
      "cell_type": "code",
      "metadata": {
        "id": "pIrP5KzsRCRT",
        "outputId": "d919ea4f-60ee-41dc-8d57-86433bcc0e3b"
      },
      "source": [
        "ql_reward.index(1)"
      ],
      "execution_count": null,
      "outputs": [
        {
          "output_type": "execute_result",
          "data": {
            "text/plain": [
              "1"
            ]
          },
          "metadata": {
            "tags": []
          },
          "execution_count": 88
        }
      ]
    },
    {
      "cell_type": "code",
      "metadata": {
        "id": "atDbVSRTRCRT",
        "outputId": "c27f4662-982c-4a2d-df59-99cce00fab16"
      },
      "source": [
        "type(ql.policy)"
      ],
      "execution_count": null,
      "outputs": [
        {
          "output_type": "execute_result",
          "data": {
            "text/plain": [
              "tuple"
            ]
          },
          "metadata": {
            "tags": []
          },
          "execution_count": 100
        }
      ]
    },
    {
      "cell_type": "code",
      "metadata": {
        "id": "hsFWpYWRRCRT",
        "outputId": "68df9e8d-ad35-42fb-f631-6417da70d615"
      },
      "source": [
        "sum([ql.policy[i] == vi.policy[i] for i in range(len(ql.policy))])"
      ],
      "execution_count": null,
      "outputs": [
        {
          "output_type": "execute_result",
          "data": {
            "text/plain": [
              "43"
            ]
          },
          "metadata": {
            "tags": []
          },
          "execution_count": 102
        }
      ]
    },
    {
      "cell_type": "code",
      "metadata": {
        "id": "19hlQ0NRRCRT",
        "outputId": "a3492015-ebc5-44bd-ccfd-70f10437fc87"
      },
      "source": [
        "sum([ql.policy[i] == vi.policy[i] for i in range(len(ql.policy))])"
      ],
      "execution_count": null,
      "outputs": [
        {
          "output_type": "execute_result",
          "data": {
            "text/plain": [
              "36"
            ]
          },
          "metadata": {
            "tags": []
          },
          "execution_count": 114
        }
      ]
    },
    {
      "cell_type": "code",
      "metadata": {
        "id": "pj9X2agYRCRT"
      },
      "source": [
        "time = [i['Time'] for i in result]"
      ],
      "execution_count": null,
      "outputs": []
    },
    {
      "cell_type": "code",
      "metadata": {
        "id": "5-PPVPsCRCRU",
        "outputId": "d847417f-d3f0-4787-eff3-82742354cd65"
      },
      "source": [
        "plt.plot(time)"
      ],
      "execution_count": null,
      "outputs": [
        {
          "output_type": "execute_result",
          "data": {
            "text/plain": [
              "[<matplotlib.lines.Line2D at 0x19cf77f4320>]"
            ]
          },
          "metadata": {
            "tags": []
          },
          "execution_count": 92
        },
        {
          "output_type": "display_data",
          "data": {
            "image/png": "[encoded data removed]",
            "text/plain": [
              "<Figure size 432x288 with 1 Axes>"
            ]
          },
          "metadata": {
            "tags": [],
            "needs_background": "light"
          }
        }
      ]
    },
    {
      "cell_type": "code",
      "metadata": {
        "id": "xwDY_ExdRCRU"
      },
      "source": [
        "gamma, alpha, alpha_decay, alpha_min, epsilon, epsilon_min, epsilon_decay, n_iter"
      ],
      "execution_count": null,
      "outputs": []
    },
    {
      "cell_type": "code",
      "metadata": {
        "id": "A71xn4hURCRU"
      },
      "source": [
        "ql = mdp.QLearning(P, R, 0.96 , n_iter=n_iter,epsilon_decay=0.999,epsilon_min=0.001,alpha_decay=0.999)\n"
      ],
      "execution_count": null,
      "outputs": []
    },
    {
      "cell_type": "code",
      "metadata": {
        "id": "z0jYa6c0RCRU",
        "outputId": "7c538d7c-27e6-418f-92bc-6b5a459b1bf1"
      },
      "source": [
        "max(vi.V)"
      ],
      "execution_count": null,
      "outputs": [
        {
          "output_type": "execute_result",
          "data": {
            "text/plain": [
              "36.68421799327019"
            ]
          },
          "metadata": {
            "tags": []
          },
          "execution_count": 117
        }
      ]
    },
    {
      "cell_type": "code",
      "metadata": {
        "id": "7N5MRljhRCRU",
        "outputId": "79866848-001f-463c-b755-ea84c20a202b"
      },
      "source": [
        "max(pi.V)"
      ],
      "execution_count": null,
      "outputs": [
        {
          "output_type": "execute_result",
          "data": {
            "text/plain": [
              "23.172433847048566"
            ]
          },
          "metadata": {
            "tags": []
          },
          "execution_count": 125
        }
      ]
    },
    {
      "cell_type": "code",
      "metadata": {
        "id": "vXdHG1BoRCRU",
        "outputId": "e63ce488-60ab-4b3e-9b55-723e9295573d"
      },
      "source": [
        "max(ql.V)"
      ],
      "execution_count": null,
      "outputs": [
        {
          "output_type": "execute_result",
          "data": {
            "text/plain": [
              "9.012146178794062"
            ]
          },
          "metadata": {
            "tags": []
          },
          "execution_count": 124
        }
      ]
    },
    {
      "cell_type": "code",
      "metadata": {
        "id": "CRrgdCsxRCRV",
        "outputId": "d7f39810-9378-4992-9974-2f6fc91040b1"
      },
      "source": [
        "max(ql.Q[:,1])"
      ],
      "execution_count": null,
      "outputs": [
        {
          "output_type": "execute_result",
          "data": {
            "text/plain": [
              "9.012146178794062"
            ]
          },
          "metadata": {
            "tags": []
          },
          "execution_count": 123
        }
      ]
    },
    {
      "cell_type": "code",
      "metadata": {
        "id": "7rqk6AmHRCRV"
      },
      "source": [
        "R"
      ],
      "execution_count": null,
      "outputs": []
    },
    {
      "cell_type": "code",
      "metadata": {
        "id": "__SAXuKTRCRV"
      },
      "source": [
        "def ql_hyper_tune(P=P,R=R,gamma=0.96, alpha=0.1, alpha_decay=.99, alpha_min=.001, epsilon=1.0, epsilon_min=0.1, \n",
        "                  epsilon_decay=0.99, n_iter=10000):\n",
        "    ql = mdp.QLearning(P,R,gamma,n_iter)\n",
        "    ql.run()\n",
        "    return ql.policy\n",
        "    \n",
        "    "
      ],
      "execution_count": null,
      "outputs": []
    },
    {
      "cell_type": "code",
      "metadata": {
        "id": "BLocoNuFRCRV"
      },
      "source": [
        "results = []\n",
        "for n_iter in [10000000,20000000]:\n",
        "    #for gamma in [0.7,0.9,0.99]:\n",
        "        results.append(ql_hyper_tune(n_iter=n_iter))"
      ],
      "execution_count": null,
      "outputs": []
    },
    {
      "cell_type": "code",
      "metadata": {
        "id": "vdl-gKo4RCRV"
      },
      "source": [
        "pp, rr = example.forest(S=40, r1=400, r2=200, p=0.1, is_sparse=False)"
      ],
      "execution_count": null,
      "outputs": []
    },
    {
      "cell_type": "code",
      "metadata": {
        "scrolled": true,
        "id": "NQBfdGYTRCRW",
        "outputId": "a7c958b2-8ddd-4778-ab16-f0b6bf47eedf"
      },
      "source": [
        "for r in results:\n",
        "    print(sum([r[i] == vi.policy[i] for i in range(len(ql.policy))]))"
      ],
      "execution_count": null,
      "outputs": [
        {
          "output_type": "stream",
          "text": [
            "45\n",
            "53\n"
          ],
          "name": "stdout"
        }
      ]
    },
    {
      "cell_type": "code",
      "metadata": {
        "scrolled": true,
        "id": "X28USUwtRCRW",
        "outputId": "9ce45e80-a3b5-47d0-d17a-6aa2e4fc5dd0"
      },
      "source": [
        "for r in results:\n",
        "    print(sum([r[i] == vi.policy[i] for i in range(len(ql.policy))]))"
      ],
      "execution_count": null,
      "outputs": [
        {
          "output_type": "stream",
          "text": [
            "50\n",
            "46\n",
            "48\n",
            "43\n"
          ],
          "name": "stdout"
        }
      ]
    },
    {
      "cell_type": "code",
      "metadata": {
        "scrolled": true,
        "id": "79E1l556RCRW",
        "outputId": "0b3e7d6f-5304-4f00-dbe8-631a34f3459d"
      },
      "source": [
        "for r in results:\n",
        "    print(sum([r[i] == vi.policy[i] for i in range(len(ql.policy))]))"
      ],
      "execution_count": null,
      "outputs": [
        {
          "output_type": "stream",
          "text": [
            "45\n",
            "42\n"
          ],
          "name": "stdout"
        }
      ]
    },
    {
      "cell_type": "code",
      "metadata": {
        "scrolled": true,
        "id": "sufVypL2RCRW",
        "outputId": "c4aab223-db7f-46b7-ecaa-8dec96fddd10"
      },
      "source": [
        "for r in results:\n",
        "    print(sum([pi.policy[i] == vi.policy[i] for i in range(len(ql.policy))]))"
      ],
      "execution_count": null,
      "outputs": [
        {
          "output_type": "stream",
          "text": [
            "396\n",
            "396\n"
          ],
          "name": "stdout"
        }
      ]
    },
    {
      "cell_type": "code",
      "metadata": {
        "id": "u_3CWHRNRCRW",
        "outputId": "2eadae4f-6ec8-4776-a349-834450490d59"
      },
      "source": [
        "import time\n",
        "start = time.time()\n",
        "n_iter = 100000\n",
        "ql = mdp.QLearning(pp, rr, 0.999999996 , n_iter=n_iter,\n",
        "                   epsilon=1,epsilon_decay=0.9999,epsilon_min=0.1,\n",
        "                   alpha_decay=0.9999,alpha = 1,alpha_min=0.01\n",
        "                   ,run_stat_frequency=1,decay_every=100)\n",
        "ql.setVerbose()\n",
        "higherre=ql.run()\n",
        "ql_result,ql_error,ql_reward = vi_plot(higherre)\n",
        "print(sum(ql.policy))\n",
        "print(time.time()-start)"
      ],
      "execution_count": null,
      "outputs": [
        {
          "output_type": "stream",
          "text": [
            "169\n",
            "170.49969053268433\n"
          ],
          "name": "stdout"
        },
        {
          "output_type": "display_data",
          "data": {
            "image/png": "[encoded data removed]",
            "text/plain": [
              "<Figure size 432x288 with 2 Axes>"
            ]
          },
          "metadata": {
            "tags": [],
            "needs_background": "light"
          }
        }
      ]
    },
    {
      "cell_type": "code",
      "metadata": {
        "id": "qEJrSbbBRCRX",
        "outputId": "4c8af9c9-3acf-4675-f22e-0b11d37ac412"
      },
      "source": [
        "sum(ql.policy)"
      ],
      "execution_count": null,
      "outputs": [
        {
          "output_type": "execute_result",
          "data": {
            "text/plain": [
              "169"
            ]
          },
          "metadata": {
            "tags": []
          },
          "execution_count": 102
        }
      ]
    },
    {
      "cell_type": "code",
      "metadata": {
        "id": "ec4apF6PRCRX"
      },
      "source": [
        ""
      ],
      "execution_count": null,
      "outputs": []
    },
    {
      "cell_type": "code",
      "metadata": {
        "scrolled": true,
        "id": "63JGRRkORCRX",
        "outputId": "1d2dd6c2-919a-4e3b-a4be-ebcd582cc1b9"
      },
      "source": [
        "#P, R = example.forest(S=500, r1=200, r2=20, p=0.1, is_sparse=False)\n",
        "gamma = 0.999999996\n",
        "vi = mdp.ValueIteration(pp, rr, gamma, epsilon=0.001,max_iter = 100000)\n",
        "vi.setVerbose()\n",
        "rv = vi.run()\n",
        "result,error,reward = vi_plot(rv)\n",
        "sum(vi.policy)"
      ],
      "execution_count": null,
      "outputs": [
        {
          "output_type": "stream",
          "text": [
            " Iteration   Variation\n",
            "         140000.000000\n",
            "         235999.999856\n",
            "         332399.999741\n",
            "         429159.999650\n",
            "         526243.999580\n",
            "         623619.599528\n",
            "         721257.639490\n",
            "         819131.875464\n",
            "         917218.687849\n",
            "        1015496.819002\n",
            "        1113947.137046\n",
            "        1212552.423291\n",
            "        1311297.180917\n",
            "        1410167.462785\n",
            "        15 9150.716470\n",
            "        16 8235.644790\n",
            "        17 7412.080281\n",
            "        18 6670.872226\n",
            "        19 6003.784980\n",
            "        20 5403.406460\n",
            "        21 4863.065795\n",
            "        22 4376.759198\n",
            "        23 3939.083262\n",
            "        24 3545.174922\n",
            "        25 3190.657417\n",
            "        26 2871.591664\n",
            "        27 2584.432487\n",
            "        28 2325.989229\n",
            "        29 2093.390298\n",
            "        30 1884.051260\n",
            "        31 1695.646128\n",
            "        32 1526.081509\n",
            "        33 1373.473352\n",
            "        34 1236.126012\n",
            "        35 1112.513406\n",
            "        36 1001.262062\n",
            "        37  901.135852\n",
            "        38  811.022264\n",
            "        39  729.920034\n",
            "        40  656.928028\n",
            "        41  591.235223\n",
            "        42  532.111699\n",
            "        43  478.900527\n",
            "        44  431.010472\n",
            "        45  387.909424\n",
            "        46  349.118480\n",
            "        47  314.206631\n",
            "        48  282.785966\n",
            "        49  254.507369\n",
            "        50  229.056631\n",
            "        51  206.150967\n",
            "        52  185.535870\n",
            "        53  166.982282\n",
            "        54  150.284053\n",
            "        55  135.255647\n",
            "        56  121.730082\n",
            "        57  109.557073\n",
            "        58   98.601366\n",
            "        59   88.741229\n",
            "        60   79.867106\n",
            "        61   71.880395\n",
            "        62   64.692355\n",
            "        63   58.223119\n",
            "        64   52.400807\n",
            "        65   47.160726\n",
            "        66   42.444653\n",
            "        67   38.200188\n",
            "        68   34.380169\n",
            "        69   30.942152\n",
            "        70   27.847937\n",
            "        71   25.063143\n",
            "        72   22.556829\n",
            "        73   20.301146\n",
            "        74   18.271031\n",
            "        75   16.443928\n",
            "        76   14.799535\n",
            "        77   13.319581\n",
            "        78   11.987623\n",
            "        79   10.788861\n",
            "        80    9.709975\n",
            "        81    8.738977\n",
            "        82    7.865079\n",
            "        83    7.078571\n",
            "        84    6.370714\n",
            "        85    5.733643\n",
            "        86    5.160279\n",
            "        87    4.644251\n",
            "        88    4.179826\n",
            "        89    3.761843\n",
            "        90    3.385659\n",
            "        91    3.047093\n",
            "        92    2.742384\n",
            "        93    2.468145\n",
            "        94    2.221331\n",
            "        95    1.999198\n",
            "        96    1.799278\n",
            "        97    1.619350\n",
            "        98    1.457415\n",
            "        99    1.311674\n",
            "       100    1.180506\n",
            "       101    1.062456\n",
            "       102    0.956210\n",
            "       103    0.860589\n",
            "       104    0.774530\n",
            "       105    0.697077\n",
            "       106    0.627369\n",
            "       107    0.564632\n",
            "       108    0.508169\n",
            "       109    0.457352\n",
            "       110    0.411617\n",
            "       111    0.370455\n",
            "       112    0.333410\n",
            "       113    0.300069\n",
            "       114    0.270062\n",
            "       115    0.243056\n",
            "       116    0.218750\n",
            "       117    0.196875\n",
            "       118    0.177188\n",
            "       119    0.159469\n",
            "       120    0.143522\n",
            "       121    0.129170\n",
            "       122    0.116253\n",
            "       123    0.104628\n",
            "       124    0.094165\n",
            "       125    0.084748\n",
            "       126    0.076273\n",
            "       127    0.068646\n",
            "       128    0.061782\n",
            "       129    0.055603\n",
            "       130    0.050043\n",
            "       131    0.045039\n",
            "       132    0.040535\n",
            "       133    0.036481\n",
            "       134    0.032833\n",
            "       135    0.029550\n",
            "       136    0.026595\n",
            "       137    0.023935\n",
            "       138    0.021542\n",
            "       139    0.019388\n",
            "       140    0.017449\n",
            "       141    0.015704\n",
            "       142    0.014134\n",
            "       143    0.012720\n",
            "       144    0.011448\n",
            "       145    0.010303\n",
            "       146    0.009273\n",
            "       147    0.008346\n",
            "       148    0.007511\n",
            "       149    0.006760\n",
            "       150    0.006084\n",
            "       151    0.005476\n",
            "       152    0.004928\n",
            "       153    0.004435\n",
            "       154    0.003992\n",
            "       155    0.003593\n",
            "       156    0.003233\n",
            "       157    0.002910\n",
            "       158    0.002619\n",
            "       159    0.002357\n",
            "       160    0.002121\n",
            "       161    0.001909\n",
            "       162    0.001718\n",
            "       163    0.001546\n",
            "       164    0.001392\n",
            "       165    0.001253\n",
            "       166    0.001127\n",
            "       167    0.001015\n",
            "       168    0.000913\n",
            "       169    0.000822\n",
            "       170    0.000740\n",
            "       171    0.000666\n",
            "       172    0.000599\n",
            "       173    0.000539\n",
            "       174    0.000485\n",
            "       175    0.000437\n",
            "       176    0.000393\n",
            "       177    0.000354\n",
            "       178    0.000318\n",
            "       179    0.000287\n",
            "       180    0.000258\n",
            "       181    0.000232\n",
            "       182    0.000209\n",
            "       183    0.000188\n",
            "       184    0.000169\n",
            "       185    0.000152\n",
            "       186    0.000137\n",
            "       187    0.000123\n",
            "       188    0.000111\n",
            "       189    0.000100\n",
            "       190    0.000090\n",
            "       191    0.000081\n",
            "       192    0.000073\n",
            "       193    0.000066\n",
            "       194    0.000059\n",
            "       195    0.000053\n",
            "       196    0.000048\n",
            "       197    0.000043\n",
            "       198    0.000039\n",
            "       199    0.000035\n",
            "       200    0.000031\n",
            "       201    0.000028\n",
            "       202    0.000025\n",
            "       203    0.000023\n",
            "       204    0.000021\n",
            "       205    0.000019\n",
            "       206    0.000017\n",
            "       207    0.000015\n",
            "       208    0.000013\n",
            "       209    0.000012\n",
            "       210    0.000011\n",
            "       211    0.000010\n",
            "       212    0.000009\n",
            "       213    0.000008\n",
            "       214    0.000007\n",
            "       215    0.000006\n",
            "       216    0.000006\n",
            "       217    0.000005\n",
            "       218    0.000005\n",
            "       219    0.000004\n",
            "       220    0.000004\n",
            "       221    0.000003\n",
            "       222    0.000003\n",
            "       223    0.000003\n",
            "       224    0.000003\n",
            "       225    0.000002\n",
            "       226    0.000002\n",
            "       227    0.000002\n",
            "       228    0.000002\n",
            "       229    0.000001\n",
            "       230    0.000001\n",
            "       231    0.000001\n",
            "       232    0.000001\n",
            "       233    0.000001\n",
            "       234    0.000001\n",
            "       235    0.000001\n",
            "       236    0.000001\n",
            "       237    0.000001\n",
            "       238    0.000001\n",
            "       239    0.000001\n",
            "       240    0.000000\n",
            "       241    0.000000\n",
            "       242    0.000000\n",
            "       243    0.000000\n",
            "       244    0.000000\n",
            "       245    0.000000\n",
            "       246    0.000000\n",
            "       247    0.000000\n",
            "       248    0.000000\n",
            "       249    0.000000\n",
            "       250    0.000000\n",
            "       251    0.000000\n",
            "       252    0.000000\n",
            "       253    0.000000\n",
            "       254    0.000000\n",
            "       255    0.000000\n",
            "       256    0.000000\n",
            "       257    0.000000\n",
            "       258    0.000000\n",
            "       259    0.000000\n",
            "       260    0.000000\n",
            "       261    0.000000\n",
            "       262    0.000000\n",
            "       263    0.000000\n",
            "       264    0.000000\n",
            "       265    0.000000\n",
            "       266    0.000000\n",
            "       267    0.000000\n",
            "       268    0.000000\n",
            "       269    0.000000\n",
            "       270    0.000000\n",
            "       271    0.000000\n",
            "       272    0.000000\n",
            "       273    0.000000\n",
            "       274    0.000000\n",
            "       275    0.000000\n",
            "       276    0.000000\n",
            "       277    0.000000\n",
            "       278    0.000000\n",
            "       279    0.000000\n",
            "       280    0.000000\n",
            "       281    0.000000\n",
            "       282    0.000000\n",
            "       283    0.000000\n",
            "       284    0.000000\n",
            "       285    0.000000\n",
            "       286    0.000000\n",
            "       287    0.000000\n",
            "       288    0.000000\n",
            "       289    0.000000\n",
            "       290    0.000000\n",
            "       291    0.000000\n",
            "       292    0.000000\n",
            "       293    0.000000\n",
            "       294    0.000000\n",
            "       295    0.000000\n",
            "       296    0.000000\n",
            "       297    0.000000\n",
            "       298    0.000000\n",
            "       299    0.000000\n",
            "       300    0.000000\n",
            "       301    0.000000\n",
            "       302    0.000000\n",
            "       303    0.000000\n",
            "       304    0.000000\n",
            "       305    0.000000\n",
            "       306    0.000000\n",
            "       307    0.000000\n",
            "       308    0.000000\n",
            "       309    0.000000\n",
            "       310    0.000000\n",
            "       311    0.000000\n",
            "       312    0.000000\n",
            "       313    0.000000\n",
            "       314    0.000000\n",
            "       315    0.000000\n",
            "       316    0.000000\n",
            "       317    0.000000\n",
            "       318    0.000000\n",
            "       319    0.000000\n",
            "       320    0.000000\n",
            "       321    0.000000\n",
            "       322    0.000000\n",
            "       323    0.000000\n",
            "       324    0.000000\n",
            "       325    0.000000\n",
            "       326    0.000000\n",
            "       327    0.000000\n",
            "       328    0.000000\n",
            "       329    0.000000\n",
            "       330    0.000000\n",
            "       331    0.000000\n",
            "       332    0.000000\n",
            "       333    0.000000\n",
            "       334    0.000000\n",
            "       335    0.000000\n",
            "       336    0.000000\n",
            "       337    0.000000\n",
            "       338    0.000000\n",
            "       339    0.000000\n",
            "       340    0.000000\n",
            "       341    0.000000\n",
            "       342    0.000000\n",
            "       343    0.000000\n",
            "       344    0.000000\n",
            "       345    0.000000\n",
            "       346    0.000000\n",
            "       347    0.000000\n",
            "       348    0.000000\n",
            "       349    0.000000\n",
            "       350    0.000000\n",
            "Iterating stopped due to maximum number of iterations condition.\n"
          ],
          "name": "stdout"
        },
        {
          "output_type": "execute_result",
          "data": {
            "text/plain": [
              "292"
            ]
          },
          "metadata": {
            "tags": []
          },
          "execution_count": 101
        },
        {
          "output_type": "display_data",
          "data": {
            "image/png": "[encoded data removed]",
            "text/plain": [
              "<Figure size 432x288 with 2 Axes>"
            ]
          },
          "metadata": {
            "tags": [],
            "needs_background": "light"
          }
        }
      ]
    },
    {
      "cell_type": "code",
      "metadata": {
        "id": "SSeJI-2ORCRX",
        "outputId": "f2bae8bc-8b96-466c-b068-ca57b2547a2c"
      },
      "source": [
        "len(ql.policy)"
      ],
      "execution_count": null,
      "outputs": [
        {
          "output_type": "execute_result",
          "data": {
            "text/plain": [
              "400"
            ]
          },
          "metadata": {
            "tags": []
          },
          "execution_count": 140
        }
      ]
    },
    {
      "cell_type": "code",
      "metadata": {
        "scrolled": true,
        "id": "khvJzq7RRCRX"
      },
      "source": [
        "#P, R = example.forest(S=500, r1=200, r2=20, p=0.1, is_sparse=False)\n",
        "gamma = 0.999999996\n",
        "vi = mdp.ValueIteration(P, R, gamma, epsilon=0.001,max_iter = 100000)\n",
        "vi.setVerbose()\n",
        "result = vi.run()\n",
        "result,error,reward = vi_plot(result)\n",
        "sum(vi.policy)"
      ],
      "execution_count": null,
      "outputs": []
    },
    {
      "cell_type": "code",
      "metadata": {
        "colab": {
          "base_uri": "https://localhost:8080/",
          "height": 1000
        },
        "id": "OSGgHfrERCRY",
        "outputId": "d00a3e1c-36a0-45dd-eebd-905a1c7804d0"
      },
      "source": [
        "gamma = 0.999999996\n",
        "P, R = example.forest(S=400, r1=200, r2=400, p=0.1, is_sparse=False)\n",
        "pi = mdp.PolicyIteration(P, R, gamma)\n",
        "pi.setVerbose()\n",
        "pi_result = pi.run()\n",
        "pi_result,pi_error,pi_reward = vi_plot(pi_result)"
      ],
      "execution_count": 11,
      "outputs": [
        {
          "output_type": "stream",
          "text": [
            " Iteration   Variation\n",
            "         1           2\n",
            "         2           1\n",
            "         3           1\n",
            "         4           1\n",
            "         5           1\n",
            "         6           1\n",
            "         7           1\n",
            "         8           1\n",
            "         9           1\n",
            "        10           1\n",
            "        11           1\n",
            "        12           1\n",
            "        13           1\n",
            "        14           1\n",
            "        15           1\n",
            "        16           1\n",
            "        17           1\n",
            "        18           1\n",
            "        19           1\n",
            "        20           1\n",
            "        21           1\n",
            "        22           1\n",
            "        23           1\n",
            "        24           1\n",
            "        25           1\n",
            "        26           1\n",
            "        27           1\n",
            "        28           1\n",
            "        29           1\n",
            "        30           1\n",
            "        31           1\n",
            "        32           1\n",
            "        33           1\n",
            "        34           1\n",
            "        35           1\n",
            "        36           1\n",
            "        37           1\n",
            "        38           1\n",
            "        39           1\n",
            "        40           1\n",
            "        41           1\n",
            "        42           1\n",
            "        43           1\n",
            "        44           1\n",
            "        45           1\n",
            "        46           1\n",
            "        47           1\n",
            "        48           1\n",
            "        49           1\n",
            "        50           1\n",
            "        51           1\n",
            "        52           1\n",
            "        53           1\n",
            "        54           1\n",
            "        55           1\n",
            "        56           1\n",
            "        57           0\n",
            "Iterating stopped, unchanging policy found.\n"
          ],
          "name": "stdout"
        },
        {
          "output_type": "display_data",
          "data": {
            "image/png": "[encoded data removed]",
            "text/plain": [
              "<Figure size 432x288 with 3 Axes>"
            ]
          },
          "metadata": {
            "tags": [],
            "needs_background": "light"
          }
        }
      ]
    },
    {
      "cell_type": "code",
      "metadata": {
        "colab": {
          "base_uri": "https://localhost:8080/",
          "height": 1000
        },
        "id": "xAXDGnOBTZ1m",
        "outputId": "51cc7885-804c-48f0-a6e7-f3813f3d1abf"
      },
      "source": [
        "gamma = 0.999999996\n",
        "P, R = example.forest(S=400, r1=200, r2=400, p=0.1, is_sparse=False)\n",
        "vi = mdp.ValueIteration(P, R, gamma)\n",
        "vi.setVerbose()\n",
        "vi_result = vi.run()\n",
        "vi_result,vi_error,vi_reward = vi_plot(vi_result)"
      ],
      "execution_count": 12,
      "outputs": [
        {
          "output_type": "stream",
          "text": [
            " Iteration   Variation\n",
            "         1  400.000000\n",
            "         2  358.999999\n",
            "         3  322.999997\n",
            "         4  289.789997\n",
            "         5  260.629996\n",
            "         6  233.729895\n",
            "         7  210.110295\n",
            "         8  188.321214\n",
            "         9  169.189338\n",
            "        10  151.540182\n",
            "        11  136.043362\n",
            "        12  121.747546\n",
            "        13  109.195123\n",
            "        14   97.615512\n",
            "        15   87.448049\n",
            "        16   78.068564\n",
            "        17   69.832919\n",
            "        18   62.235536\n",
            "        19   55.564664\n",
            "        20   49.410784\n",
            "        21   44.007377\n",
            "        22   39.022735\n",
            "        23   34.645975\n",
            "        24   30.608415\n",
            "        25   27.063240\n",
            "        26   23.792816\n",
            "        27   20.921224\n",
            "        28   18.272181\n",
            "        29   15.946191\n",
            "        30   13.800466\n",
            "        31   11.916415\n",
            "        32   10.178378\n",
            "        33    8.652296\n",
            "        34    7.244486\n",
            "        35    6.008360\n",
            "        36    4.868033\n",
            "        37    4.005048\n",
            "        38    3.604543\n",
            "        39    3.244089\n",
            "        40    2.919680\n",
            "        41    2.627712\n",
            "        42    2.364941\n",
            "        43    2.128447\n",
            "        44    1.915602\n",
            "        45    1.724042\n",
            "        46    1.551638\n",
            "        47    1.396474\n",
            "        48    1.256827\n",
            "        49    1.131144\n",
            "        50    1.018029\n",
            "        51    0.916227\n",
            "        52    0.824604\n",
            "        53    0.742143\n",
            "        54    0.667929\n",
            "        55    0.601136\n",
            "        56    0.541023\n",
            "        57    0.486920\n",
            "        58    0.438228\n",
            "        59    0.394405\n",
            "        60    0.354965\n",
            "        61    0.319468\n",
            "        62    0.287522\n",
            "        63    0.258769\n",
            "        64    0.232892\n",
            "        65    0.209603\n",
            "        66    0.188643\n",
            "        67    0.169779\n",
            "        68    0.152801\n",
            "        69    0.137521\n",
            "        70    0.123769\n",
            "        71    0.111392\n",
            "        72    0.100253\n",
            "        73    0.090227\n",
            "        74    0.081205\n",
            "        75    0.073084\n",
            "        76    0.065776\n",
            "        77    0.059198\n",
            "        78    0.053278\n",
            "        79    0.047950\n",
            "        80    0.043155\n",
            "        81    0.038840\n",
            "        82    0.034956\n",
            "        83    0.031460\n",
            "        84    0.028314\n",
            "        85    0.025483\n",
            "        86    0.022935\n",
            "        87    0.020641\n",
            "        88    0.018577\n",
            "        89    0.016719\n",
            "        90    0.015047\n",
            "        91    0.013543\n",
            "        92    0.012188\n",
            "        93    0.010970\n",
            "        94    0.009873\n",
            "        95    0.008885\n",
            "        96    0.007997\n",
            "        97    0.007197\n",
            "        98    0.006477\n",
            "        99    0.005830\n",
            "       100    0.005247\n",
            "       101    0.004722\n",
            "       102    0.004250\n",
            "       103    0.003825\n",
            "       104    0.003442\n",
            "       105    0.003098\n",
            "       106    0.002788\n",
            "       107    0.002509\n",
            "       108    0.002259\n",
            "       109    0.002033\n",
            "       110    0.001829\n",
            "       111    0.001646\n",
            "       112    0.001482\n",
            "       113    0.001334\n",
            "       114    0.001200\n",
            "       115    0.001080\n",
            "       116    0.000972\n",
            "       117    0.000875\n",
            "       118    0.000788\n",
            "       119    0.000709\n",
            "       120    0.000638\n",
            "       121    0.000574\n",
            "       122    0.000517\n",
            "       123    0.000465\n",
            "       124    0.000419\n",
            "       125    0.000377\n",
            "       126    0.000339\n",
            "       127    0.000305\n",
            "       128    0.000275\n",
            "       129    0.000247\n",
            "       130    0.000222\n",
            "       131    0.000200\n",
            "       132    0.000180\n",
            "       133    0.000162\n",
            "       134    0.000146\n",
            "       135    0.000131\n",
            "       136    0.000118\n",
            "       137    0.000106\n",
            "       138    0.000096\n",
            "       139    0.000086\n",
            "       140    0.000078\n",
            "       141    0.000070\n",
            "       142    0.000063\n",
            "       143    0.000057\n",
            "       144    0.000051\n",
            "       145    0.000046\n",
            "       146    0.000041\n",
            "       147    0.000037\n",
            "       148    0.000033\n",
            "       149    0.000030\n",
            "       150    0.000027\n",
            "       151    0.000024\n",
            "       152    0.000022\n",
            "       153    0.000020\n",
            "       154    0.000018\n",
            "       155    0.000016\n",
            "       156    0.000014\n",
            "       157    0.000013\n",
            "       158    0.000012\n",
            "       159    0.000010\n",
            "       160    0.000009\n",
            "       161    0.000008\n",
            "       162    0.000008\n",
            "       163    0.000007\n",
            "       164    0.000006\n",
            "       165    0.000006\n",
            "       166    0.000005\n",
            "       167    0.000005\n",
            "       168    0.000004\n",
            "       169    0.000004\n",
            "       170    0.000003\n",
            "       171    0.000003\n",
            "       172    0.000003\n",
            "       173    0.000002\n",
            "       174    0.000002\n",
            "       175    0.000002\n",
            "       176    0.000002\n",
            "       177    0.000002\n",
            "       178    0.000001\n",
            "       179    0.000001\n",
            "       180    0.000001\n",
            "       181    0.000001\n",
            "       182    0.000001\n",
            "       183    0.000001\n",
            "       184    0.000001\n",
            "       185    0.000001\n",
            "       186    0.000001\n",
            "       187    0.000001\n",
            "       188    0.000000\n",
            "       189    0.000000\n",
            "       190    0.000000\n",
            "       191    0.000000\n",
            "       192    0.000000\n",
            "       193    0.000000\n",
            "       194    0.000000\n",
            "       195    0.000000\n",
            "       196    0.000000\n",
            "       197    0.000000\n",
            "       198    0.000000\n",
            "       199    0.000000\n",
            "       200    0.000000\n",
            "       201    0.000000\n",
            "       202    0.000000\n",
            "       203    0.000000\n",
            "       204    0.000000\n",
            "       205    0.000000\n",
            "       206    0.000000\n",
            "       207    0.000000\n",
            "       208    0.000000\n",
            "       209    0.000000\n",
            "       210    0.000000\n",
            "       211    0.000000\n",
            "       212    0.000000\n",
            "       213    0.000000\n",
            "       214    0.000000\n",
            "       215    0.000000\n",
            "       216    0.000000\n",
            "       217    0.000000\n",
            "       218    0.000000\n",
            "       219    0.000000\n",
            "       220    0.000000\n",
            "       221    0.000000\n",
            "       222    0.000000\n",
            "       223    0.000000\n",
            "       224    0.000000\n",
            "       225    0.000000\n",
            "       226    0.000000\n",
            "       227    0.000000\n",
            "       228    0.000000\n",
            "       229    0.000000\n",
            "       230    0.000000\n",
            "       231    0.000000\n",
            "       232    0.000000\n",
            "       233    0.000000\n",
            "       234    0.000000\n",
            "       235    0.000000\n",
            "       236    0.000000\n",
            "       237    0.000000\n",
            "       238    0.000000\n",
            "       239    0.000000\n",
            "       240    0.000000\n",
            "       241    0.000000\n",
            "       242    0.000000\n",
            "       243    0.000000\n",
            "       244    0.000000\n",
            "       245    0.000000\n",
            "       246    0.000000\n",
            "       247    0.000000\n",
            "       248    0.000000\n",
            "       249    0.000000\n",
            "       250    0.000000\n",
            "       251    0.000000\n",
            "       252    0.000000\n",
            "       253    0.000000\n",
            "       254    0.000000\n",
            "       255    0.000000\n",
            "       256    0.000000\n",
            "       257    0.000000\n",
            "       258    0.000000\n",
            "       259    0.000000\n",
            "       260    0.000000\n",
            "       261    0.000000\n",
            "       262    0.000000\n",
            "       263    0.000000\n",
            "       264    0.000000\n",
            "       265    0.000000\n",
            "       266    0.000000\n",
            "       267    0.000000\n",
            "       268    0.000000\n",
            "       269    0.000000\n",
            "       270    0.000000\n",
            "       271    0.000000\n",
            "       272    0.000000\n",
            "       273    0.000000\n",
            "       274    0.000000\n",
            "       275    0.000000\n",
            "       276    0.000000\n",
            "       277    0.000000\n",
            "       278    0.000000\n",
            "Iterating stopped, epsilon-optimal policy found.\n"
          ],
          "name": "stdout"
        },
        {
          "output_type": "display_data",
          "data": {
            "image/png": "[encoded data removed]",
            "text/plain": [
              "<Figure size 432x288 with 3 Axes>"
            ]
          },
          "metadata": {
            "tags": [],
            "needs_background": "light"
          }
        }
      ]
    },
    {
      "cell_type": "code",
      "metadata": {
        "scrolled": true,
        "id": "7qvwo9M6RCRY"
      },
      "source": [
        "gamma = 0.999999996\n",
        "\n",
        "pi = mdp.PolicyIteration(P, R, gamma)\n",
        "pi.setVerbose()\n",
        "pi_result = pi.run()\n",
        "pi_result,pi_error,pi_reward = vi_plot(pi_result)\n",
        "sum(pi.policy)"
      ],
      "execution_count": null,
      "outputs": []
    },
    {
      "cell_type": "code",
      "metadata": {
        "id": "sPdZPsSQRCRY",
        "outputId": "e8ab577f-1117-46cd-a31b-646087300faf"
      },
      "source": [
        "vi_meanv = [i['Mean V'] for i in result]\n",
        "pi_meanv = [i['Mean V']/200000 for i in pi_result]\n",
        "vi_error = [i['Error'] for i in result]\n",
        "pi_error = [i['Error'] for i in pi_result]\n",
        "vi_time = [i['Time'] for i in result]\n",
        "pi_time = [i['Time'] for i in pi_result]\n",
        "\n",
        "plt.plot(vi_meanv,label = 'VI Mean V')\n",
        "plt.plot(pi_meanv,label = 'PI Mean V')\n",
        "plt.plot(vi_error,label = 'VI Error')\n",
        "plt.plot(pi_error,label = 'PI Error')\n",
        "plt.plot()\n",
        "plt.legend(loc='best')\n",
        "plt.title('VI, PI Delta convergence Plot')"
      ],
      "execution_count": null,
      "outputs": [
        {
          "output_type": "execute_result",
          "data": {
            "text/plain": [
              "Text(0.5, 1.0, 'VI, PI Delta convergence Plot')"
            ]
          },
          "metadata": {
            "tags": []
          },
          "execution_count": 196
        },
        {
          "output_type": "display_data",
          "data": {
            "image/png": "[encoded data removed]",
            "text/plain": [
              "<Figure size 432x288 with 1 Axes>"
            ]
          },
          "metadata": {
            "tags": [],
            "needs_background": "light"
          }
        }
      ]
    },
    {
      "cell_type": "code",
      "metadata": {
        "id": "Sg2oZLXRRCRY"
      },
      "source": [
        "rr"
      ],
      "execution_count": null,
      "outputs": []
    },
    {
      "cell_type": "code",
      "metadata": {
        "id": "6abociBcRCRY"
      },
      "source": [
        "vi_time"
      ],
      "execution_count": null,
      "outputs": []
    },
    {
      "cell_type": "code",
      "metadata": {
        "id": "np4sg-J6RCRY"
      },
      "source": [
        "vi_meanv"
      ],
      "execution_count": null,
      "outputs": []
    },
    {
      "cell_type": "code",
      "metadata": {
        "id": "nF3HWK1fRCRZ",
        "outputId": "b2c76120-3424-48a7-ad6e-6d007f5e4b25"
      },
      "source": [
        "plt.plot(vi_time,vi_meanv,label = 'VI Mean V')\n",
        "#plt.plot(pi_time,pi_meanv,label = 'PI Mean V')\n",
        "# plt.plot(vi_error,label = 'VI Error')\n",
        "# plt.plot(pi_error,label = 'PI Error')\n",
        "plt.plot()\n",
        "plt.legend(loc='best')\n",
        "plt.title('VI Mean V vs time')"
      ],
      "execution_count": null,
      "outputs": [
        {
          "output_type": "execute_result",
          "data": {
            "text/plain": [
              "Text(0.5, 1.0, 'VI Mean V vs time')"
            ]
          },
          "metadata": {
            "tags": []
          },
          "execution_count": 203
        },
        {
          "output_type": "display_data",
          "data": {
            "image/png": "[encoded data removed]",
            "text/plain": [
              "<Figure size 432x288 with 1 Axes>"
            ]
          },
          "metadata": {
            "tags": [],
            "needs_background": "light"
          }
        }
      ]
    },
    {
      "cell_type": "code",
      "metadata": {
        "id": "e6Miv3WxRCRZ",
        "outputId": "a241fc79-907b-406a-ba03-06c85a7edebe"
      },
      "source": [
        "#plt.plot(vi_time,vi_meanv,label = 'VI Mean V')\n",
        "plt.plot(pi_time,pi_meanv,label = 'PI Mean V')\n",
        "# plt.plot(vi_error,label = 'VI Error')\n",
        "# plt.plot(pi_error,label = 'PI Error')\n",
        "plt.plot()\n",
        "plt.legend(loc='best')\n",
        "plt.title('PI Mean V vs time')"
      ],
      "execution_count": null,
      "outputs": [
        {
          "output_type": "execute_result",
          "data": {
            "text/plain": [
              "Text(0.5, 1.0, 'PI Mean V vs time')"
            ]
          },
          "metadata": {
            "tags": []
          },
          "execution_count": 197
        },
        {
          "output_type": "display_data",
          "data": {
            "image/png": "[encoded data removed]",
            "text/plain": [
              "<Figure size 432x288 with 1 Axes>"
            ]
          },
          "metadata": {
            "tags": [],
            "needs_background": "light"
          }
        }
      ]
    },
    {
      "cell_type": "code",
      "metadata": {
        "id": "aW3EvhxqRCRZ"
      },
      "source": [
        ""
      ],
      "execution_count": null,
      "outputs": []
    },
    {
      "cell_type": "code",
      "metadata": {
        "scrolled": true,
        "id": "m7JRLqc8RCRZ"
      },
      "source": [
        "pi_meanv"
      ],
      "execution_count": null,
      "outputs": []
    },
    {
      "cell_type": "code",
      "metadata": {
        "scrolled": true,
        "id": "K1gxJT8tRCRZ"
      },
      "source": [
        "pi_time"
      ],
      "execution_count": null,
      "outputs": []
    },
    {
      "cell_type": "code",
      "metadata": {
        "scrolled": true,
        "id": "sjUt77pARCRa"
      },
      "source": [
        "pi_time"
      ],
      "execution_count": null,
      "outputs": []
    },
    {
      "cell_type": "code",
      "metadata": {
        "id": "WCCAuLqmRCRa"
      },
      "source": [
        "sP, sR = example.forest(S=40, r1=40, r2=20, p=0.1, is_sparse=False)\n",
        "bP, bR = example.forest(S=100, r1=40, r2=20, p=0.1, is_sparse=False)\n"
      ],
      "execution_count": null,
      "outputs": []
    },
    {
      "cell_type": "code",
      "metadata": {
        "scrolled": true,
        "id": "MiZrQ3_zRCRa",
        "outputId": "8b8061ad-8ef1-4d34-e9a8-2870dde798f5"
      },
      "source": [
        "#P, R = example.forest(S=500, r1=200, r2=20, p=0.1, is_sparse=False)\n",
        "gamma = 0.999999996\n",
        "svi = mdp.ValueIteration(sP, sR, gamma, epsilon=0.001,max_iter = 100000)\n",
        "svi.setVerbose()\n",
        "sresult = svi.run()\n",
        "result,error,reward = vi_plot(sresult)\n",
        "# sum(vi.policy)"
      ],
      "execution_count": null,
      "outputs": [
        {
          "output_type": "stream",
          "text": [
            " Iteration   Variation\n",
            "         1   40.000000\n",
            "         2   36.000000\n",
            "         3   32.400000\n",
            "         4   29.160000\n",
            "         5   26.244000\n",
            "         6   23.619600\n",
            "         7   21.257639\n",
            "         8   19.131875\n",
            "         9   17.218688\n",
            "        10   15.496819\n",
            "        11   13.947137\n",
            "        12   12.552423\n",
            "        13   11.297181\n",
            "        14   10.167463\n",
            "        15    9.150716\n",
            "        16    8.235645\n",
            "        17    7.412080\n",
            "        18    6.670872\n",
            "        19    6.003785\n",
            "        20    5.403406\n",
            "        21    4.863066\n",
            "        22    4.376759\n",
            "        23    3.939083\n",
            "        24    3.545175\n",
            "        25    3.190657\n",
            "        26    2.871592\n",
            "        27    2.584432\n",
            "        28    2.325989\n",
            "        29    2.093390\n",
            "        30    1.884051\n",
            "        31    1.695646\n",
            "        32    1.526082\n",
            "        33    1.373473\n",
            "        34    1.236126\n",
            "        35    1.112513\n",
            "        36    1.001262\n",
            "        37    0.901136\n",
            "        38    0.811022\n",
            "        39    0.729920\n",
            "        40    0.656928\n",
            "        41    0.591235\n",
            "        42    0.532112\n",
            "        43    0.478901\n",
            "        44    0.431010\n",
            "        45    0.387909\n",
            "        46    0.349118\n",
            "        47    0.314207\n",
            "        48    0.282786\n",
            "        49    0.254507\n",
            "        50    0.227399\n",
            "        51    0.204659\n",
            "        52    0.000000\n",
            "Iterating stopped, epsilon-optimal policy found.\n"
          ],
          "name": "stdout"
        },
        {
          "output_type": "execute_result",
          "data": {
            "text/plain": [
              "0"
            ]
          },
          "metadata": {
            "tags": []
          },
          "execution_count": 249
        },
        {
          "output_type": "display_data",
          "data": {
            "image/png": "[encoded data removed]",
            "text/plain": [
              "<Figure size 432x288 with 2 Axes>"
            ]
          },
          "metadata": {
            "tags": [],
            "needs_background": "light"
          }
        }
      ]
    },
    {
      "cell_type": "code",
      "metadata": {
        "scrolled": true,
        "id": "2gmPOW6oRCRa"
      },
      "source": [
        "#P, R = example.forest(S=500, r1=200, r2=20, p=0.1, is_sparse=False)\n",
        "gamma = 0.999999996\n",
        "bvi = mdp.ValueIteration(bP, bR, gamma, epsilon=0.001,max_iter = 100000)\n",
        "bvi.setVerbose()\n",
        "bresult = bvi.run()\n",
        "result,error,reward = bvi_plot(sresult)\n",
        "sum(vi.policy)"
      ],
      "execution_count": null,
      "outputs": []
    },
    {
      "cell_type": "code",
      "metadata": {
        "id": "8jQGWPFERCRa",
        "outputId": "c2847827-838c-4a48-eadc-fc0e5905fa55"
      },
      "source": [
        "vi_meanv = [i['Mean V'] for i in sresult]\n",
        "pi_meanv = [i['Mean V'] for i in bresult]\n",
        "vi_error = [i['Error'] for i in sresult]\n",
        "pi_error = [i['Error'] for i in bresult]\n",
        "vi_time = [i['Time'] for i in sresult]\n",
        "pi_time = [i['Time'] for i in bresult]\n",
        "\n",
        "plt.plot(vi_meanv,label = 'small Mean V')\n",
        "#plt.plot(pi_meanv,label = 'large Mean V')\n",
        "plt.plot(vi_error,label = 'small Error')\n",
        "#plt.plot(pi_error,label = 'large Error')\n",
        "plt.plot()\n",
        "plt.legend(loc='best')\n",
        "plt.title('small and large Delta convergence Plot')"
      ],
      "execution_count": null,
      "outputs": [
        {
          "output_type": "execute_result",
          "data": {
            "text/plain": [
              "Text(0.5, 1.0, 'small and large Delta convergence Plot')"
            ]
          },
          "metadata": {
            "tags": []
          },
          "execution_count": 255
        },
        {
          "output_type": "display_data",
          "data": {
            "image/png": "[encoded data removed]",
            "text/plain": [
              "<Figure size 432x288 with 1 Axes>"
            ]
          },
          "metadata": {
            "tags": [],
            "needs_background": "light"
          }
        }
      ]
    },
    {
      "cell_type": "code",
      "metadata": {
        "id": "gZowGGK-RCRb",
        "outputId": "ca9bbe48-e71f-43b5-adb8-9c98866a9b2f"
      },
      "source": [
        "vi_meanv = [i['Mean V'] for i in sresult]\n",
        "pi_meanv = [i['Mean V'] for i in bresult]\n",
        "vi_error = [i['Error'] for i in sresult]\n",
        "pi_error = [i['Error'] for i in bresult]\n",
        "vi_time = [i['Time'] for i in sresult]\n",
        "pi_time = [i['Time'] for i in bresult]\n",
        "\n",
        "#plt.plot(vi_meanv,label = 'small Mean V')\n",
        "plt.plot(pi_meanv,label = 'large Mean V')\n",
        "#plt.plot(vi_error,label = 'small Error')\n",
        "plt.plot(pi_error,label = 'large Error')\n",
        "plt.plot()\n",
        "plt.legend(loc='best')\n",
        "plt.title('small and large Delta convergence Plot')"
      ],
      "execution_count": null,
      "outputs": [
        {
          "output_type": "execute_result",
          "data": {
            "text/plain": [
              "Text(0.5, 1.0, 'small and large Delta convergence Plot')"
            ]
          },
          "metadata": {
            "tags": []
          },
          "execution_count": 252
        },
        {
          "output_type": "display_data",
          "data": {
            "image/png": "[encoded data removed]",
            "text/plain": [
              "<Figure size 432x288 with 1 Axes>"
            ]
          },
          "metadata": {
            "tags": [],
            "needs_background": "light"
          }
        }
      ]
    },
    {
      "cell_type": "code",
      "metadata": {
        "id": "C_7il_6kRCRd",
        "outputId": "edd16fb2-24d7-45dd-b239-d9b43d7d7edb"
      },
      "source": [
        "sresult[-1]"
      ],
      "execution_count": null,
      "outputs": [
        {
          "output_type": "execute_result",
          "data": {
            "text/plain": [
              "{'State': None,\n",
              " 'Action': None,\n",
              " 'Reward': 417.99655404644614,\n",
              " 'Error': 1.4210854715202004e-13,\n",
              " 'Time': 0.044945716857910156,\n",
              " 'Max V': 417.99655404644614,\n",
              " 'Mean V': 116.51847329521891,\n",
              " 'Iteration': 52}"
            ]
          },
          "metadata": {
            "tags": []
          },
          "execution_count": 256
        }
      ]
    },
    {
      "cell_type": "code",
      "metadata": {
        "id": "SPxysVWJRCRd",
        "outputId": "abc55910-8524-4fab-d0fd-ac2cd5cde617"
      },
      "source": [
        "bresult[-1]"
      ],
      "execution_count": null,
      "outputs": [
        {
          "output_type": "execute_result",
          "data": {
            "text/plain": [
              "{'State': None,\n",
              " 'Action': None,\n",
              " 'Reward': 530.0137595155325,\n",
              " 'Error': 4.121147867408581e-12,\n",
              " 'Time': 0.2799992561340332,\n",
              " 'Max V': 530.0137595155325,\n",
              " 'Mean V': 172.58223886011848,\n",
              " 'Iteration': 285}"
            ]
          },
          "metadata": {
            "tags": []
          },
          "execution_count": 257
        }
      ]
    },
    {
      "cell_type": "code",
      "metadata": {
        "id": "bGQoEEtuRCRd"
      },
      "source": [
        ""
      ],
      "execution_count": null,
      "outputs": []
    }
  ]
}